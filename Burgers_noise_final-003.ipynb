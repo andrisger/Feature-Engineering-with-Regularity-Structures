{
 "cells": [
  {
   "cell_type": "code",
   "execution_count": 1,
   "metadata": {},
   "outputs": [],
   "source": [
    "%run SPDEs.ipynb\n",
    "%run Rule.ipynb\n",
    "%run Model.ipynb\n",
    "%run Noise.ipynb\n",
    "%run full_visualization.ipynb\n",
    "%run Algorithm_2_FFT.ipynb\n",
    "%run Burgers_PDE_FIND.ipynb\n",
    "\n",
    "#Disable progress bars from tqdm\n",
    "from functools import partialmethod\n",
    "tqdm.__init__ = partialmethod(tqdm.__init__, disable=True)"
   ]
  },
  {
   "cell_type": "code",
   "execution_count": 2,
   "metadata": {},
   "outputs": [],
   "source": [
    "#Set global parameters\n",
    "\n",
    "a, b, s, t = 0, 16, 0, 10 # space-time boundaries\n",
    "\n",
    "X_, T_ = np.linspace(a,b,513), np.linspace(s,t,2001) # space-time grid for generating solutions\n",
    "x_space = 1\n",
    "t_space = 10\n",
    "X, T = X_[::x_space], T_[::t_space] # space-time grid of observed points. O_X and O_T\n",
    "\n",
    "eps = 0.2 #Viscosity\n",
    "\n",
    "k = 120 # Number of realizations (multiple of 3)\n",
    "m = 20 # Number of test cases, m < k\n",
    "\n",
    "N = 10 # Number of experiments\n",
    "\n",
    "noise = 0.03 #noise intensity\n",
    "\n",
    "#Model parameters\n",
    "height = 3\n",
    "deg = 2.5\n",
    "kernel_deg = 2\n",
    "noise_deg = -1.5\n",
    "free_num = 2\n",
    "BC = 'P'\n",
    "\n",
    "R = Rule(kernel_deg = kernel_deg,\n",
    "         noise_deg = noise_deg,\n",
    "         free_num = free_num) # initialize rule. No multiplicative width and forcing. \n",
    "\n",
    "#Polynomial interpolation parameters for PDE-FIND\n",
    "deg_x = 4\n",
    "deg_t = 4\n",
    "\n",
    "true_eps = False #whether to use true value of eps (vs. estimated value) for PDE-FIND\n",
    "finite_diff = False #whether to use finite difference (vs poly interpolation) for PDE-FIND\n",
    "\n",
    "offset_x = 20\n",
    "offset_t = 20\n",
    "\n",
    "time_scale = 10 # increase the time interval for finer Euler scheme in PDE-FIND"
   ]
  },
  {
   "cell_type": "code",
   "execution_count": 3,
   "metadata": {},
   "outputs": [
    {
     "name": "stdout",
     "output_type": "stream",
     "text": [
      "Creating Model\n",
      "Numerical Scheme for Algorithm 2 failed for 0 equation with the above coefficients.\n"
     ]
    },
    {
     "name": "stderr",
     "output_type": "stream",
     "text": [
      "<ipython-input-1-efb32890576f>:264: RuntimeWarning: overflow encountered in multiply\n",
      "  non_linearity = np.fft.fft( - lambd*soln[:,i-1,:-1]*diff*dt + self.sigma_(soln[:,i-1,:-1])*dW[:,i,:-1], axis=-1)\n",
      "<ipython-input-1-efb32890576f>:266: RuntimeWarning: invalid value encountered in true_divide\n",
      "  soln_h = ((1.0 - lap_[None,:])*soln_h + non_linearity)/(1.0 + lap_[None,:])\n",
      "<ipython-input-1-efb32890576f>:266: RuntimeWarning: invalid value encountered in multiply\n",
      "  soln_h = ((1.0 - lap_[None,:])*soln_h + non_linearity)/(1.0 + lap_[None,:])\n"
     ]
    },
    {
     "name": "stdout",
     "output_type": "stream",
     "text": [
      "Numerical Scheme for PDE-FIND failed for 2 equation with the above coefficients.\n",
      "Finished experiment 1\n",
      "Creating Model\n",
      "Numerical Scheme for Algorithm 2 failed for 0 equation with the above coefficients.\n"
     ]
    },
    {
     "name": "stderr",
     "output_type": "stream",
     "text": [
      "<ipython-input-1-efb32890576f>:264: RuntimeWarning: overflow encountered in multiply\n",
      "  non_linearity = np.fft.fft( - lambd*soln[:,i-1,:-1]*diff*dt + self.sigma_(soln[:,i-1,:-1])*dW[:,i,:-1], axis=-1)\n",
      "<ipython-input-1-efb32890576f>:266: RuntimeWarning: invalid value encountered in true_divide\n",
      "  soln_h = ((1.0 - lap_[None,:])*soln_h + non_linearity)/(1.0 + lap_[None,:])\n",
      "<ipython-input-1-efb32890576f>:266: RuntimeWarning: invalid value encountered in multiply\n",
      "  soln_h = ((1.0 - lap_[None,:])*soln_h + non_linearity)/(1.0 + lap_[None,:])\n"
     ]
    },
    {
     "name": "stdout",
     "output_type": "stream",
     "text": [
      "Numerical Scheme for PDE-FIND failed for 0 equation with the above coefficients.\n",
      "Finished experiment 2\n",
      "Creating Model\n",
      "Numerical Scheme for Algorithm 2 failed for 0 equation with the above coefficients.\n"
     ]
    },
    {
     "name": "stderr",
     "output_type": "stream",
     "text": [
      "<ipython-input-1-efb32890576f>:264: RuntimeWarning: overflow encountered in multiply\n",
      "  non_linearity = np.fft.fft( - lambd*soln[:,i-1,:-1]*diff*dt + self.sigma_(soln[:,i-1,:-1])*dW[:,i,:-1], axis=-1)\n",
      "<ipython-input-1-efb32890576f>:266: RuntimeWarning: invalid value encountered in true_divide\n",
      "  soln_h = ((1.0 - lap_[None,:])*soln_h + non_linearity)/(1.0 + lap_[None,:])\n"
     ]
    },
    {
     "name": "stdout",
     "output_type": "stream",
     "text": [
      "Numerical Scheme for PDE-FIND failed for 1 equation with the above coefficients.\n",
      "Finished experiment 3\n",
      "Creating Model\n",
      "Numerical Scheme for Algorithm 2 failed for 0 equation with the above coefficients.\n"
     ]
    },
    {
     "name": "stderr",
     "output_type": "stream",
     "text": [
      "<ipython-input-1-efb32890576f>:264: RuntimeWarning: overflow encountered in multiply\n",
      "  non_linearity = np.fft.fft( - lambd*soln[:,i-1,:-1]*diff*dt + self.sigma_(soln[:,i-1,:-1])*dW[:,i,:-1], axis=-1)\n",
      "<ipython-input-1-efb32890576f>:266: RuntimeWarning: invalid value encountered in true_divide\n",
      "  soln_h = ((1.0 - lap_[None,:])*soln_h + non_linearity)/(1.0 + lap_[None,:])\n",
      "<ipython-input-1-efb32890576f>:266: RuntimeWarning: invalid value encountered in multiply\n",
      "  soln_h = ((1.0 - lap_[None,:])*soln_h + non_linearity)/(1.0 + lap_[None,:])\n"
     ]
    },
    {
     "name": "stdout",
     "output_type": "stream",
     "text": [
      "Numerical Scheme for PDE-FIND failed for 4 equation with the above coefficients.\n",
      "Finished experiment 4\n",
      "Creating Model\n",
      "Numerical Scheme for Algorithm 2 failed for 0 equation with the above coefficients.\n"
     ]
    },
    {
     "name": "stderr",
     "output_type": "stream",
     "text": [
      "<ipython-input-1-efb32890576f>:264: RuntimeWarning: overflow encountered in multiply\n",
      "  non_linearity = np.fft.fft( - lambd*soln[:,i-1,:-1]*diff*dt + self.sigma_(soln[:,i-1,:-1])*dW[:,i,:-1], axis=-1)\n",
      "<ipython-input-1-efb32890576f>:266: RuntimeWarning: invalid value encountered in true_divide\n",
      "  soln_h = ((1.0 - lap_[None,:])*soln_h + non_linearity)/(1.0 + lap_[None,:])\n"
     ]
    },
    {
     "name": "stdout",
     "output_type": "stream",
     "text": [
      "Numerical Scheme for PDE-FIND failed for 1 equation with the above coefficients.\n",
      "Finished experiment 5\n",
      "Creating Model\n",
      "Numerical Scheme for Algorithm 2 failed for 0 equation with the above coefficients.\n"
     ]
    },
    {
     "name": "stderr",
     "output_type": "stream",
     "text": [
      "<ipython-input-1-efb32890576f>:264: RuntimeWarning: overflow encountered in multiply\n",
      "  non_linearity = np.fft.fft( - lambd*soln[:,i-1,:-1]*diff*dt + self.sigma_(soln[:,i-1,:-1])*dW[:,i,:-1], axis=-1)\n",
      "<ipython-input-1-efb32890576f>:266: RuntimeWarning: invalid value encountered in true_divide\n",
      "  soln_h = ((1.0 - lap_[None,:])*soln_h + non_linearity)/(1.0 + lap_[None,:])\n",
      "<ipython-input-1-efb32890576f>:266: RuntimeWarning: invalid value encountered in multiply\n",
      "  soln_h = ((1.0 - lap_[None,:])*soln_h + non_linearity)/(1.0 + lap_[None,:])\n"
     ]
    },
    {
     "name": "stdout",
     "output_type": "stream",
     "text": [
      "Numerical Scheme for PDE-FIND failed for 3 equation with the above coefficients.\n",
      "Finished experiment 6\n",
      "Creating Model\n",
      "Numerical Scheme for Algorithm 2 failed for 0 equation with the above coefficients.\n"
     ]
    },
    {
     "name": "stderr",
     "output_type": "stream",
     "text": [
      "<ipython-input-1-efb32890576f>:264: RuntimeWarning: overflow encountered in multiply\n",
      "  non_linearity = np.fft.fft( - lambd*soln[:,i-1,:-1]*diff*dt + self.sigma_(soln[:,i-1,:-1])*dW[:,i,:-1], axis=-1)\n",
      "<ipython-input-1-efb32890576f>:266: RuntimeWarning: invalid value encountered in true_divide\n",
      "  soln_h = ((1.0 - lap_[None,:])*soln_h + non_linearity)/(1.0 + lap_[None,:])\n",
      "<ipython-input-1-efb32890576f>:266: RuntimeWarning: invalid value encountered in multiply\n",
      "  soln_h = ((1.0 - lap_[None,:])*soln_h + non_linearity)/(1.0 + lap_[None,:])\n"
     ]
    },
    {
     "name": "stdout",
     "output_type": "stream",
     "text": [
      "Numerical Scheme for PDE-FIND failed for 7 equation with the above coefficients.\n",
      "Finished experiment 7\n",
      "Creating Model\n",
      "Numerical Scheme for Algorithm 2 failed for 0 equation with the above coefficients.\n"
     ]
    },
    {
     "name": "stderr",
     "output_type": "stream",
     "text": [
      "<ipython-input-1-efb32890576f>:264: RuntimeWarning: overflow encountered in multiply\n",
      "  non_linearity = np.fft.fft( - lambd*soln[:,i-1,:-1]*diff*dt + self.sigma_(soln[:,i-1,:-1])*dW[:,i,:-1], axis=-1)\n",
      "<ipython-input-1-efb32890576f>:266: RuntimeWarning: invalid value encountered in true_divide\n",
      "  soln_h = ((1.0 - lap_[None,:])*soln_h + non_linearity)/(1.0 + lap_[None,:])\n",
      "<ipython-input-1-efb32890576f>:266: RuntimeWarning: invalid value encountered in multiply\n",
      "  soln_h = ((1.0 - lap_[None,:])*soln_h + non_linearity)/(1.0 + lap_[None,:])\n"
     ]
    },
    {
     "name": "stdout",
     "output_type": "stream",
     "text": [
      "Numerical Scheme for PDE-FIND failed for 1 equation with the above coefficients.\n",
      "Finished experiment 8\n",
      "Creating Model\n",
      "Numerical Scheme for Algorithm 2 failed for 0 equation with the above coefficients.\n"
     ]
    },
    {
     "name": "stderr",
     "output_type": "stream",
     "text": [
      "<ipython-input-1-efb32890576f>:264: RuntimeWarning: overflow encountered in multiply\n",
      "  non_linearity = np.fft.fft( - lambd*soln[:,i-1,:-1]*diff*dt + self.sigma_(soln[:,i-1,:-1])*dW[:,i,:-1], axis=-1)\n",
      "<ipython-input-1-efb32890576f>:266: RuntimeWarning: invalid value encountered in true_divide\n",
      "  soln_h = ((1.0 - lap_[None,:])*soln_h + non_linearity)/(1.0 + lap_[None,:])\n"
     ]
    },
    {
     "name": "stdout",
     "output_type": "stream",
     "text": [
      "Numerical Scheme for PDE-FIND failed for 1 equation with the above coefficients.\n",
      "Finished experiment 9\n",
      "Creating Model\n",
      "Numerical Scheme for Algorithm 2 failed for 0 equation with the above coefficients.\n"
     ]
    },
    {
     "name": "stderr",
     "output_type": "stream",
     "text": [
      "<ipython-input-1-efb32890576f>:264: RuntimeWarning: overflow encountered in multiply\n",
      "  non_linearity = np.fft.fft( - lambd*soln[:,i-1,:-1]*diff*dt + self.sigma_(soln[:,i-1,:-1])*dW[:,i,:-1], axis=-1)\n",
      "<ipython-input-1-efb32890576f>:266: RuntimeWarning: invalid value encountered in true_divide\n",
      "  soln_h = ((1.0 - lap_[None,:])*soln_h + non_linearity)/(1.0 + lap_[None,:])\n",
      "<ipython-input-1-efb32890576f>:266: RuntimeWarning: invalid value encountered in multiply\n",
      "  soln_h = ((1.0 - lap_[None,:])*soln_h + non_linearity)/(1.0 + lap_[None,:])\n"
     ]
    },
    {
     "name": "stdout",
     "output_type": "stream",
     "text": [
      "Numerical Scheme for PDE-FIND failed for 2 equation with the above coefficients.\n",
      "Finished experiment 10\n",
      "CPU times: user 11h 5min 30s, sys: 7min 30s, total: 11h 13min 1s\n",
      "Wall time: 11h 13min 56s\n"
     ]
    }
   ],
   "source": [
    "%%time\n",
    "\n",
    "exps_Alg2 = []\n",
    "exps_v = []\n",
    "exps_v_coef = []\n",
    "exps_find = []\n",
    "exps_find_eps =[]\n",
    "exps_find_lambd =[]\n",
    "\n",
    "for n in range(0,N):\n",
    "    # Create realizations of initial conditions. \n",
    "    IC1 = Noise().initial(k//3, X_, scaling = 1) # one cycle\n",
    "    IC2 = Noise().initial(k//3, X_, scaling = 2) # two cycles\n",
    "    IC4 = Noise().initial(k//3, X_, scaling = 4) # four cycles\n",
    "\n",
    "    IC = np.concatenate([IC1, IC2, IC4])\n",
    "\n",
    "    W = np.zeros((k, len(T_), len(X_))) # No forcing\n",
    "    \n",
    "    #Generate solutions\n",
    "    Burgers_ = SPDE(BC = BC, IC = IC, eps = eps).Burgers_FFT(W, T = T_, X = X_) # solve Burger's equations on the fine grid\n",
    "\n",
    "    Burgers = Burgers_[:,::t_space,::x_space] # Observed points of Burger's equations\n",
    "    \n",
    "    Burgers = np.float32(Burgers)\n",
    "    \n",
    "    # Translate solution to a dataframe for the visualization class\n",
    "    Burgers_true = [pd.DataFrame(B, index = T, columns = X) for B in Burgers]\n",
    "    \n",
    "    #\n",
    "    test = np.random.choice(np.arange(k), m, replace = False) # choose test set\n",
    "        \n",
    "       \n",
    "    Burgers_noise = np.array([B+np.random.normal(scale = noise*np.abs(B).mean().mean(), size = (len(T),len(X))) for B in Burgers_true])\n",
    "    Burgers_noise = Burgers_noise.astype('float32')\n",
    "    for i in range(k):\n",
    "        Burgers_noise[i, :, -1] = Burgers_noise[i, :, 0]\n",
    "    \n",
    "    \n",
    "    #ALGORITHM 2\n",
    "    \n",
    "    experiment_noise = IML(Burgers_noise,\n",
    "                           Rule = R,\n",
    "                           eps = eps,\n",
    "                           height = height,\n",
    "                           deg = deg,\n",
    "                           T = T,\n",
    "                           X = X) # initialize experiment for algorithm 2\n",
    "    experiment_noise.set_train_test(test = test) # initialize test set\n",
    "\n",
    "    experiment_noise.set_trees() # extract trees\n",
    "    R.exceptions = set([tree for tree in experiment_noise.trees if '2' in tree])\n",
    "    experiment_noise.set_trees([tree for tree in experiment_noise.trees if '2' not in tree])\n",
    "\n",
    "    experiment_noise.training_models() # Create models for Step 2 of Algorithm 2\n",
    "    \n",
    "    \n",
    "    experiment_noise.fit_training_model() # Linear fit for Step 2 of Algorithm 2\n",
    "    experiment_noise.learn_with_fitted() # Recurcive steps 3 & 4 of Algorithm 2\n",
    "    \n",
    "    \n",
    "    # Predicted values on the noisy data. Outliers that blow up during the experiment are excluded\n",
    "\n",
    "    Prediction_noise = experiment_noise.to_df_list()\n",
    "    show_prediction = summary(test)\n",
    "\n",
    "    outliers = []\n",
    "    #outliers = [i for i in range(len(test)) if show_prediction.one_error(i, Burgers_true, Prediction_noise) > 1]\n",
    "    test_no_outliers = [test[i] for i in range(len(test)) if i not in outliers]\n",
    "    Prediction_noise = [Prediction_noise[i] for i in range(len(test)) if i not in outliers]\n",
    "    \n",
    "    print('Numerical Scheme for Algorithm 2 failed for {} equation with the above coefficients.'.format(len(outliers)))\n",
    "    \n",
    "    # Errors\n",
    "    show_no_outliers = summary(test_no_outliers)\n",
    "    er = show_no_outliers.errors(Burgers_true, Prediction_noise, show = False, full = False)\n",
    "    exps_Alg2.append(show_no_outliers)\n",
    "    \n",
    "    \n",
    " \n",
    "    \n",
    "    #PDE-FIND\n",
    "    \n",
    "    # PDE-FIND with polynomial interpolation on the noisy data\n",
    "\n",
    "    # Number of equations used for the PDE-FIND algorithm\n",
    "    learning_samples = k-m\n",
    "\n",
    "    u = np.array([Burgers_noise[i] for i in range(len(Burgers_noise)) if i not in test])\n",
    "\n",
    "    dt, dx = T[1]-T[0], X[1]-X[0]\n",
    "    # get viscosity and non linear coeficient of the Burgers equation\n",
    "    # Use polynomial interpolation to differentiate the noisy data\n",
    "    if finite_diff: eps_find, lambd_find = PDE_FIND_Burgers(u[:learning_samples], dt, dx, diff='finite_diff')\n",
    "    else: eps_find, lambd_find = PDE_FIND_Burgers(u[:learning_samples],\n",
    "                                                    dt,\n",
    "                                                    dx,\n",
    "                                                    diff='poly',\n",
    "                                                    offset_x = offset_x,\n",
    "                                                    offset_t = offset_t,\n",
    "                                                    deg_x = deg_x,\n",
    "                                                    deg_t = deg_t)\n",
    "    exps_find_eps.append(eps_find)\n",
    "    exps_find_lambd.append(lambd_find)\n",
    "\n",
    "    S_ = np.linspace(T[0] , T[-1], time_scale*(len(T)-1)+1)\n",
    "\n",
    "    IC_ = np.array([B[0] for B in Burgers_noise])\n",
    "\n",
    "    W_ = np.zeros((k, len(S_), len(X)))\n",
    "\n",
    "    if true_eps: eps_ = eps\n",
    "    else: eps_ = eps_find\n",
    "\n",
    "    Burgers_noise_FIND = SPDE(BC = 'P',\n",
    "                              IC = IC_,\n",
    "                              eps = eps_).Burgers_FFT(W_,\n",
    "                                                      lambd = -lambd_find,\n",
    "                                                      T = S_,\n",
    "                                                      X = X)\n",
    "                                                      \n",
    "                                                       \n",
    "    \n",
    "    Burgers_noise_FIND = [pd.DataFrame(Burgers_noise_FIND[i, ::time_scale, :], index = T, columns = X) for i in test]\n",
    "    \n",
    "    #test_without_nan = test\n",
    "    test_without_nan = [test[i] for i in range(len(test)) if not Burgers_noise_FIND[i].isnull().values.any()]\n",
    "    Burgers_noise_FIND_ = [B for B in Burgers_noise_FIND if not B.isnull().values.any()]\n",
    "\n",
    "    print('Numerical Scheme for PDE-FIND failed for {} equation with the above coefficients.'.format(len(test)-len(test_without_nan)))\n",
    "\n",
    "    \n",
    "    show_FIND = summary(test_without_nan)\n",
    "\n",
    "    er_noise = show_FIND.errors(Burgers_true, Burgers_noise_FIND_, show = False, full = False)\n",
    "    exps_find.append(show_FIND)\n",
    "    \n",
    "    print(\"Finished experiment\", n+1)\n",
    "    "
   ]
  },
  {
   "cell_type": "code",
   "execution_count": 6,
   "metadata": {},
   "outputs": [
    {
     "name": "stdout",
     "output_type": "stream",
     "text": [
      "Average average error: 0.1374103633762466\n",
      "Maximum average error: 0.17616187321482907\n",
      "Minimum average error: 0.08676357231488188\n",
      "\n",
      "Average maximum error: 0.3769444518353324\n",
      "Maximum maximum error: 0.6831588938460369\n",
      "Minimum maximum error: 0.19028172216582012\n",
      "\n",
      "Average minimum error: 0.06001538211435973\n",
      "Maximum minimum error: 0.08493583821563037\n",
      "Minimum minimum error: 0.018102129934470666\n",
      "\n",
      "=====================\n",
      "Average average error: 0.1914140078451705\n",
      "Maximum average error: 0.25091438757774787\n",
      "Minimum average error: 0.1387380437253716\n",
      "\n",
      "Average maximum error: 0.5287346733745013\n",
      "Maximum maximum error: 0.7709771378639619\n",
      "Minimum maximum error: 0.3651493666038643\n",
      "\n",
      "Average minimum error: 0.0509103102536899\n",
      "Maximum minimum error: 0.06636971791706055\n",
      "Minimum minimum error: 0.031850507746223444\n",
      "\n",
      "=====================\n"
     ]
    }
   ],
   "source": [
    "for exps in [exps_Alg2, exps_find]:\n",
    "\n",
    "    print(\"Average average error:\", np.mean([e.av_er for e in exps]))\n",
    "    print(\"Maximum average error:\", max([e.av_er for e in exps]))\n",
    "    print(\"Minimum average error:\", min([e.av_er for e in exps]))\n",
    "    print('')\n",
    "\n",
    "    print(\"Average maximum error:\", np.mean([e.max_er for e in exps]))\n",
    "    print(\"Maximum maximum error:\", max([e.max_er for e in exps]))\n",
    "    print(\"Minimum maximum error:\", min([e.max_er for e in exps]))\n",
    "    print('')\n",
    "\n",
    "    print(\"Average minimum error:\", np.mean([e.min_er for e in exps]))\n",
    "    print(\"Maximum minimum error:\", max([e.min_er for e in exps]))\n",
    "    print(\"Minimum minimum error:\", min([e.min_er for e in exps]))\n",
    "    print('')\n",
    "\n",
    "    print(\"=====================\")"
   ]
  },
  {
   "cell_type": "code",
   "execution_count": 5,
   "metadata": {},
   "outputs": [
    {
     "name": "stdout",
     "output_type": "stream",
     "text": [
      "Average viscosity: 0.02697245885546174, lambda: -0.7331369171122778\n",
      "Maximum viscosity: 0.037554184374587775, lambda: -0.6398019103314243\n",
      "Minimum viscosity: 0.021103876074825657, lambda: -0.7962774859523873\n"
     ]
    }
   ],
   "source": [
    "print(\"Average viscosity: {}, lambda: {}\".format(np.mean(exps_find_eps), np.mean(exps_find_lambd)))\n",
    "print(\"Maximum viscosity: {}, lambda: {}\".format(max(exps_find_eps), max(exps_find_lambd)))\n",
    "print(\"Minimum viscosity: {}, lambda: {}\".format(min(exps_find_eps), min(exps_find_lambd)))"
   ]
  },
  {
   "cell_type": "code",
   "execution_count": null,
   "metadata": {},
   "outputs": [],
   "source": []
  },
  {
   "cell_type": "code",
   "execution_count": null,
   "metadata": {},
   "outputs": [],
   "source": []
  }
 ],
 "metadata": {
  "kernelspec": {
   "display_name": "Python 3",
   "language": "python",
   "name": "python3"
  },
  "language_info": {
   "codemirror_mode": {
    "name": "ipython",
    "version": 3
   },
   "file_extension": ".py",
   "mimetype": "text/x-python",
   "name": "python",
   "nbconvert_exporter": "python",
   "pygments_lexer": "ipython3",
   "version": "3.8.1"
  }
 },
 "nbformat": 4,
 "nbformat_minor": 4
}
