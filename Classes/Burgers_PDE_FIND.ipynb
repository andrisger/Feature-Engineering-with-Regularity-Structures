{
 "cells": [
  {
   "cell_type": "code",
   "execution_count": 1,
   "metadata": {},
   "outputs": [],
   "source": [
    "def PolyDiff(u, x, deg = 4, diff = 1, width = 5):\n",
    "\n",
    "    u = u.flatten()\n",
    "    x = x.flatten()\n",
    "\n",
    "    n = len(x)\n",
    "    du = np.zeros((n - 2*width,diff))\n",
    "\n",
    "    # Take the derivatives in the center of the domain\n",
    "    for j in range(width, n-width):\n",
    "\n",
    "        points = np.arange(j - width, j + width + 1)\n",
    "\n",
    "        # Fit to a polynomial\n",
    "        poly = np.polynomial.chebyshev.Chebyshev.fit(x[points],u[points],deg)\n",
    "\n",
    "        # Take derivatives\n",
    "        for d in range(1,diff+1):\n",
    "            du[j-width, d-1] = poly.deriv(m=d)(x[j])\n",
    "\n",
    "    return du\n",
    "\n",
    "def PDE_FIND_Burgers(u, dt, dx, diff='poly', offset_x = None, offset_t = None, deg_x = 4, deg_t = 4):\n",
    "    \n",
    "    num_samples, m, n = u.shape\n",
    "    if offset_x == None: offset_x = n//10\n",
    "    if offset_t == None: offset_t = m//10\n",
    "    T, X = np.linspace(0,(m-1)*dt,m), np.linspace(0,(n-1)*dx,n)\n",
    "        \n",
    "    if diff == 'poly': \n",
    "        n2, m2 = n-2*offset_x, m-2*offset_t\n",
    "        u_ = np.zeros((num_samples,m2,n2))\n",
    "        ut = np.zeros((num_samples,m2,n2))\n",
    "        ux = np.zeros((num_samples,m2,n2))\n",
    "        uxx = np.zeros((num_samples,m2,n2))\n",
    "        for j in tqdm(range(num_samples)):\n",
    "            for i in range(n2):\n",
    "                u_[j, :, i] = u[j,offset_t:-offset_x,i+offset_x]\n",
    "                ut[j, :, i] = PolyDiff(u[j,:,i+offset_x],T,diff=1,width=offset_t,deg=deg_t)[:,0]\n",
    "            for i in range(m2):\n",
    "                Du = PolyDiff(u[j,i+offset_t,:],X,diff=2,width=offset_x,deg=deg_x)\n",
    "                ux[j, i, :] = Du[:, 0]\n",
    "                uxx[j, i, :] = Du[:, 1]\n",
    "        u_t = np.array([U[j] for U in ut for j in range(m2)]).flatten()\n",
    "        u_x = np.array([U[j] for U in ux for j in range(m2)]).flatten()\n",
    "        u_xx = np.array([U[j] for U in uxx for j in range(m2)]).flatten()\n",
    "        \n",
    "    else:\n",
    "        M = SPDE(BC = 'P').Parabolic_Matrix(n-1, 1, dx, inverse = False).T\n",
    "        u_ = np.array([U[j] for U in u for j in range(m-1)])\n",
    "        u_t = np.array([(U[j+1,:]-U[j,:])/dt for U in u for j in range(m-1)]).flatten()\n",
    "        u_x = np.array([SPDE().discrete_diff(U, N = n, flatten=True, higher = False)/dx for U in u_]).flatten()\n",
    "        u_xx = np.dot(u_, M).flatten()\n",
    "        \n",
    "    u2_x = u_.flatten()*u_x\n",
    "    truth = lin_reg(fit_intercept = True).fit(np.array([u_xx, u2_x]).T, u_t)\n",
    "    \n",
    "    return truth.coef_[0], truth.coef_[1]"
   ]
  },
  {
   "cell_type": "code",
   "execution_count": null,
   "metadata": {},
   "outputs": [],
   "source": []
  }
 ],
 "metadata": {
  "kernelspec": {
   "display_name": "Python 3",
   "language": "python",
   "name": "python3"
  },
  "language_info": {
   "codemirror_mode": {
    "name": "ipython",
    "version": 3
   },
   "file_extension": ".py",
   "mimetype": "text/x-python",
   "name": "python",
   "nbconvert_exporter": "python",
   "pygments_lexer": "ipython3",
   "version": "3.8.1"
  }
 },
 "nbformat": 4,
 "nbformat_minor": 4
}
