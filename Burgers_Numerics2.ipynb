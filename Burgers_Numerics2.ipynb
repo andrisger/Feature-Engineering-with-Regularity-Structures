{
 "cells": [
  {
   "cell_type": "code",
   "execution_count": 5,
   "metadata": {},
   "outputs": [],
   "source": [
    "%run SPDEs.ipynb\n",
    "%run Rule.ipynb\n",
    "%run Model.ipynb\n",
    "%run Noise.ipynb\n",
    "%run full_visualization.ipynb\n",
    "%run Algorithm_2.ipynb\n",
    "%run Burgers_PDE_FIND.ipynb"
   ]
  },
  {
   "cell_type": "code",
   "execution_count": 2,
   "metadata": {},
   "outputs": [],
   "source": [
    "# Uploading the data of the same solutions. Alternatively create data as in Burgers_Numerics1.ipynb\n",
    "\n",
    "Burgers_true = pd.read_csv(\"Burgers_fourier\", index_col=0, header = [0,1])\n",
    "Burgers_true = [Burgers_true[\"S\"+str(i)] for i in range(1, Burgers_true.columns.levshape[0]+1)]\n",
    "\n",
    "num_samples = len(Burgers_true)\n",
    "\n",
    "test = np.random.choice(np.arange(num_samples), int(num_samples/6), replace = False)\n",
    "\n",
    "show = summary(test)\n",
    "\n",
    "T, X = Burgers_true[0].index.values, Burgers_true[0].columns.values.astype('float64')"
   ]
  },
  {
   "cell_type": "code",
   "execution_count": 3,
   "metadata": {},
   "outputs": [],
   "source": [
    "noise = 0.01\n",
    "\n",
    "Burgers_noise = np.array([B+np.random.normal(scale = noise*np.abs(B).mean().mean(), size = (len(T),len(X))) for B in Burgers_true])\n",
    "for i in range(120):\n",
    "    Burgers_noise[i, :, -1] = Burgers_noise[i, :, 0]\n",
    "    \n",
    "Burgers_noise_df = [pd.DataFrame(B, index = T, columns = X) for B in Burgers_noise]"
   ]
  },
  {
   "cell_type": "code",
   "execution_count": 29,
   "metadata": {},
   "outputs": [
    {
     "name": "stdout",
     "output_type": "stream",
     "text": [
      "Total relative error for all test cases: 0.009681613917152573\n",
      "\n",
      "Average error over all test cases: 0.009372798969239388\n",
      "\n",
      "Maximum relative error among test cases: 0.010003977049863633\n"
     ]
    }
   ],
   "source": [
    "# Double check that approximatelly 1% error is added\n",
    "\n",
    "er_ = show.errors(Burgers_true,[Burgers_noise_df[i] for i in test])\n",
    "print('')\n",
    "av_er_ = show.errors(Burgers_true,[Burgers_noise_df[i] for i in test], full = False, maxi = True)"
   ]
  },
  {
   "cell_type": "code",
   "execution_count": null,
   "metadata": {},
   "outputs": [
    {
     "name": "stderr",
     "output_type": "stream",
     "text": [
      "100%|██████████| 1/1 [00:00<00:00, 461.67it/s]\n"
     ]
    },
    {
     "name": "stdout",
     "output_type": "stream",
     "text": [
      "Creating Model\n"
     ]
    },
    {
     "name": "stderr",
     "output_type": "stream",
     "text": [
      "  8%|▊         | 1629/20000 [01:10<16:03, 19.07it/s]"
     ]
    }
   ],
   "source": [
    "# Algorithm 2 on the noisy data\n",
    "\n",
    "R = Rule(kernel_deg = 2, noise_deg = -1.5, free_num = 2)\n",
    "\n",
    "experiment_noise = IML(Burgers_noise, Rule = R, eps = 0.1, height = 3, deg = 2.5, T = T, X = X) # initialize experiment for algorithm 2\n",
    "experiment_noise.set_train_test(test = test) # initialize test set\n",
    "\n",
    "experiment_noise.set_trees() # extract trees\n",
    "\n",
    "experiment_noise.initialize_Predictions() \n",
    "\n",
    "experiment_noise.training_models() # Create models for Step 2 of Algorithm 2"
   ]
  },
  {
   "cell_type": "code",
   "execution_count": null,
   "metadata": {},
   "outputs": [],
   "source": [
    "experiment_noise.fit_training_model() # Linear fit for Step 2 of Algorithm 2\n",
    "experiment_noise.learn_with_fitted() # Recurcive steps 3 & 4 of Algorithm 2"
   ]
  },
  {
   "cell_type": "code",
   "execution_count": null,
   "metadata": {},
   "outputs": [],
   "source": [
    "# Predicted values on tne noisy \n",
    "\n",
    "Prediction_noise = experiment_noise.to_df_list() \n",
    "\n",
    "er_noise = show.errors(Burgers_true, Prediction_noise)\n",
    "print('')\n",
    "av_er_noise = show.errors(Burgers_true, Prediction_noise, full = False, maxi = True)"
   ]
  },
  {
   "cell_type": "code",
   "execution_count": null,
   "metadata": {},
   "outputs": [
    {
     "name": "stderr",
     "output_type": "stream",
     "text": [
      " 10%|█         | 1/10 [00:52<07:52, 52.50s/it]"
     ]
    }
   ],
   "source": [
    "# PDE-FIND with polynomial interpolation on the noisy data\n",
    "\n",
    "# Number of equations used for the PDE-FIND algorithm\n",
    "learning_samples = num_samples-len(test) \n",
    "# learning_samples = 10\n",
    "\n",
    "u = np.array([Burgers_noise[i] for i in range(len(Burgers_noise)) if i not in test])\n",
    "\n",
    "dt, dx = T[1]-T[0], X[1]-X[0]\n",
    "# get viscosity and non linear coeficient of the Burgers equation\n",
    "# Use polynomial interpolation to differentiate the noisy data\n",
    "eps, lambd = PDE_FIND_Burgers(u[:learning_samples], dt, dx, diff='poly', offset_x = 10, offset_t = 10, deg_x = 5, deg_t = 5)\n",
    "\n",
    "print(\"Coefficients of equation obtained from PDE-FIND regression:\")\n",
    "print(\"Viscocity coef: {}, Non-lin coef: {}.\".format(eps, lambd))"
   ]
  },
  {
   "cell_type": "code",
   "execution_count": 8,
   "metadata": {},
   "outputs": [
    {
     "name": "stderr",
     "output_type": "stream",
     "text": [
      "  8%|▊         | 167/2000 [00:00<00:03, 524.63it/s]<ipython-input-5-e020bc4ef242>:225: RuntimeWarning: overflow encountered in multiply\n",
      "  current = Solution[:,i-1,:] - lambd*Solution[:,i-1,:]*self.discrete_diff(Solution[:,i-1,:], len(X), flatten = False, higher = False)*dt/dx + self.sigma_(Solution[:,i-1,:]) * dW[:,i,:]\n",
      "100%|██████████| 2000/2000 [00:03<00:00, 602.83it/s]\n"
     ]
    }
   ],
   "source": [
    "time_scale = 10 # increase the time interval for finer Euler scheme\n",
    "\n",
    "T_ = np.linspace(T[0] , T[-1], time_scale*(len(T)-1)+1)\n",
    "\n",
    "IC_ = np.array([B[0] for B in Burgers_noise])\n",
    "\n",
    "W_ = np.zeros((num_samples, len(T_), len(X)))\n",
    "\n",
    "Burgers_noise_FIND = SPDE(BC = 'P', IC = IC_, eps = eps).Burgers(W_, lambd = lambd, T = T_, X = X)\n",
    "\n",
    "Burgers_noise_FIND = [pd.DataFrame(Burgers_noise_FIND[i, ::time_scale, :], index = T, columns = X) for i in test]"
   ]
  },
  {
   "cell_type": "code",
   "execution_count": 33,
   "metadata": {},
   "outputs": [
    {
     "name": "stdout",
     "output_type": "stream",
     "text": [
      "Numerical Scheme failed for 1 equation with the above coeficients.\n"
     ]
    }
   ],
   "source": [
    "test_without_nan = [test[i] for i in range(len(test)) if not Burgers_noise_FIND[i].isnull().values.any()]\n",
    "Burgers_noise_FIND_ = [B for B in Burgers_noise_FIND if not B.isnull().values.any()]\n",
    "\n",
    "print('Numerical Scheme failed for {} equation with the above coeficients.'.format(len(test)-len(test_without_nan)))"
   ]
  },
  {
   "cell_type": "code",
   "execution_count": 35,
   "metadata": {},
   "outputs": [
    {
     "name": "stdout",
     "output_type": "stream",
     "text": [
      "Total relative error for all test cases: 0.2609572174291738\n",
      "\n",
      "Average error over all test cases: 0.36809507477984293\n",
      "\n",
      "Maximum relative error among test cases: 0.9418865932301519\n"
     ]
    }
   ],
   "source": [
    "show_FIND = summary(test_without_nan)\n",
    "\n",
    "er_noise = show_FIND.errors(Burgers_true, Burgers_noise_FIND_)\n",
    "print('')\n",
    "av_er_noise = show_FIND.errors(Burgers_true, Burgers_noise_FIND_, full = False, maxi = True)"
   ]
  },
  {
   "cell_type": "code",
   "execution_count": null,
   "metadata": {},
   "outputs": [],
   "source": []
  }
 ],
 "metadata": {
  "kernelspec": {
   "display_name": "Python 3",
   "language": "python",
   "name": "python3"
  },
  "language_info": {
   "codemirror_mode": {
    "name": "ipython",
    "version": 3
   },
   "file_extension": ".py",
   "mimetype": "text/x-python",
   "name": "python",
   "nbconvert_exporter": "python",
   "pygments_lexer": "ipython3",
   "version": "3.8.1"
  }
 },
 "nbformat": 4,
 "nbformat_minor": 4
}
