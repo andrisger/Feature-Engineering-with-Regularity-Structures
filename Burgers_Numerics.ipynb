{
 "cells": [
  {
   "cell_type": "code",
   "execution_count": 2,
   "metadata": {},
   "outputs": [],
   "source": [
    "%run SPDEs.ipynb\n",
    "%run Rule.ipynb\n",
    "%run Model.ipynb\n",
    "%run Noise.ipynb\n",
    "%run full_visualization.ipynb\n",
    "%run Algorithm_2.ipynb"
   ]
  },
  {
   "cell_type": "code",
   "execution_count": 3,
   "metadata": {},
   "outputs": [
    {
     "name": "stderr",
     "output_type": "stream",
     "text": [
      "100%|██████████| 2000/2000 [00:13<00:00, 147.69it/s]\n"
     ]
    }
   ],
   "source": [
    "a, b, s, t = -8, 8, 0, 10 # space-time boundaries\n",
    "\n",
    "X_, T_ = np.linspace(a,b,1025), np.linspace(s,t,2001) # space-time grid for generating solutions\n",
    "X, T = X_[::2], T_[::10] # space-time grid of observed points. O_X and O_T\n",
    "\n",
    "k = 120 # Number of realizations\n",
    "\n",
    "# Create realizations of initial conditions. \n",
    "\n",
    "IC1 = Noise().initial(40, X_, scaling = 1) # one cycle\n",
    "IC2 = Noise().initial(40, X_, scaling = 2) # two cycles\n",
    "IC4 = Noise().initial(40, X_, scaling = 4) # four cycles\n",
    "\n",
    "IC = np.concatenate([IC1, IC2, IC4])\n",
    "\n",
    "W = np.zeros((k, len(T_), len(X_))) # No forcing\n",
    "\n",
    "Burgers_ = SPDE(BC = 'P', IC = IC, eps = 0.1).Burgers(W, T = T_, X = X_) # solve Burger's equations on the fine grid\n",
    "\n",
    "Burgers = Burgers_[:,::10,::2] # Observed points of Burger's equations"
   ]
  },
  {
   "cell_type": "code",
   "execution_count": 4,
   "metadata": {},
   "outputs": [
    {
     "name": "stderr",
     "output_type": "stream",
     "text": [
      "100%|██████████| 1/1 [00:00<00:00, 274.12it/s]\n",
      "  0%|          | 0/20000 [00:00<?, ?it/s]"
     ]
    },
    {
     "name": "stdout",
     "output_type": "stream",
     "text": [
      "Creating Model\n"
     ]
    },
    {
     "name": "stderr",
     "output_type": "stream",
     "text": [
      "100%|██████████| 20000/20000 [08:15<00:00, 40.33it/s]\n"
     ]
    }
   ],
   "source": [
    "R = Rule(kernel_deg = 2, noise_deg = -1.5, free_num = 2) # initialize rule. No multiplicative width and forcing. \n",
    "\n",
    "test = np.random.choice(np.arange(120), 20, replace = False) # choose test set\n",
    "\n",
    "experiment = IML(Burgers, Rule = R, eps = 0.1, height = 3, deg = 2.5, T = T, X = X) # initialize experiment for algorithm 2\n",
    "experiment.set_train_test(test = test) # initialize test set\n",
    "\n",
    "experiment.set_trees() # extract trees\n",
    "#print(len(experiment.trees))\n",
    "#trees = [tree for tree in experiment.trees if tree[0] != \"(\" and tree[1] != \"'\"] # leave only function of the form I[\\tau]print(len(experiment.trees))\n",
    "#experiment.trees = trees\n",
    "\n",
    "experiment.initialize_Predictions() \n",
    "\n",
    "experiment.training_models() # Create models for Step 2 of Algorithm 2"
   ]
  },
  {
   "cell_type": "code",
   "execution_count": 15,
   "metadata": {},
   "outputs": [],
   "source": [
    "experiment.fit_training_model() # Linear fit for Step 2 of Algorithm 2"
   ]
  },
  {
   "cell_type": "code",
   "execution_count": 16,
   "metadata": {},
   "outputs": [
    {
     "name": "stderr",
     "output_type": "stream",
     "text": [
      "100%|██████████| 20/20 [00:00<00:00, 43.99it/s]\n",
      "100%|██████████| 20/20 [00:00<00:00, 38.38it/s]\n",
      "100%|██████████| 20/20 [00:00<00:00, 42.71it/s]\n",
      "100%|██████████| 20/20 [00:00<00:00, 46.18it/s]\n",
      "100%|██████████| 20/20 [00:00<00:00, 48.89it/s]\n",
      "100%|██████████| 20/20 [00:00<00:00, 46.24it/s]\n",
      "100%|██████████| 20/20 [00:00<00:00, 43.98it/s]\n",
      "100%|██████████| 20/20 [00:00<00:00, 50.47it/s]\n",
      "100%|██████████| 20/20 [00:00<00:00, 49.02it/s]\n",
      "100%|██████████| 20/20 [00:00<00:00, 50.35it/s]\n",
      "100%|██████████| 20/20 [00:00<00:00, 50.11it/s]\n",
      "100%|██████████| 20/20 [00:00<00:00, 52.55it/s]\n",
      "100%|██████████| 20/20 [00:00<00:00, 51.74it/s]\n",
      "100%|██████████| 20/20 [00:00<00:00, 51.14it/s]\n",
      "100%|██████████| 20/20 [00:00<00:00, 52.04it/s]\n",
      "100%|██████████| 20/20 [00:00<00:00, 52.90it/s]\n",
      "100%|██████████| 20/20 [00:00<00:00, 52.66it/s]\n",
      "100%|██████████| 20/20 [00:00<00:00, 42.99it/s]\n",
      "100%|██████████| 20/20 [00:00<00:00, 45.77it/s]\n",
      "100%|██████████| 20/20 [00:00<00:00, 50.75it/s]\n",
      "100%|██████████| 20/20 [00:00<00:00, 51.89it/s]\n",
      "100%|██████████| 20/20 [00:00<00:00, 51.39it/s]\n",
      "100%|██████████| 20/20 [00:00<00:00, 51.48it/s]\n",
      "100%|██████████| 20/20 [00:00<00:00, 52.93it/s]\n",
      "100%|██████████| 20/20 [00:00<00:00, 50.83it/s]\n",
      "100%|██████████| 20/20 [00:00<00:00, 52.83it/s]\n",
      "100%|██████████| 20/20 [00:00<00:00, 51.87it/s]\n",
      "100%|██████████| 20/20 [00:00<00:00, 51.17it/s]\n",
      "100%|██████████| 20/20 [00:00<00:00, 47.66it/s]\n",
      "100%|██████████| 20/20 [00:00<00:00, 50.20it/s]\n",
      "100%|██████████| 20/20 [00:00<00:00, 50.08it/s]\n",
      "100%|██████████| 20/20 [00:00<00:00, 50.53it/s]\n",
      "100%|██████████| 20/20 [00:00<00:00, 48.63it/s]\n",
      "100%|██████████| 20/20 [00:00<00:00, 48.32it/s]\n",
      "100%|██████████| 20/20 [00:00<00:00, 50.70it/s]\n",
      "100%|██████████| 20/20 [00:00<00:00, 51.10it/s]\n",
      "100%|██████████| 20/20 [00:00<00:00, 49.28it/s]\n",
      "100%|██████████| 20/20 [00:00<00:00, 50.68it/s]\n",
      "100%|██████████| 20/20 [00:00<00:00, 47.59it/s]\n",
      "100%|██████████| 20/20 [00:00<00:00, 49.62it/s]\n",
      "100%|██████████| 20/20 [00:00<00:00, 29.69it/s]\n",
      "100%|██████████| 20/20 [00:00<00:00, 47.12it/s]\n",
      "100%|██████████| 20/20 [00:00<00:00, 47.26it/s]\n",
      "100%|██████████| 20/20 [00:00<00:00, 49.41it/s]\n",
      "100%|██████████| 20/20 [00:00<00:00, 47.23it/s]\n",
      "100%|██████████| 20/20 [00:00<00:00, 49.33it/s]\n",
      "100%|██████████| 20/20 [00:00<00:00, 50.05it/s]\n",
      "100%|██████████| 20/20 [00:00<00:00, 50.40it/s]\n",
      "100%|██████████| 20/20 [00:00<00:00, 50.53it/s]\n",
      "100%|██████████| 20/20 [00:00<00:00, 50.34it/s]\n",
      "100%|██████████| 20/20 [00:00<00:00, 49.87it/s]\n",
      "100%|██████████| 20/20 [00:00<00:00, 51.24it/s]\n",
      "100%|██████████| 20/20 [00:00<00:00, 50.95it/s]\n",
      "100%|██████████| 20/20 [00:00<00:00, 50.55it/s]\n",
      "100%|██████████| 20/20 [00:00<00:00, 49.74it/s]\n",
      "100%|██████████| 20/20 [00:00<00:00, 39.32it/s]\n",
      "100%|██████████| 20/20 [00:00<00:00, 49.90it/s]\n",
      "100%|██████████| 20/20 [00:00<00:00, 50.56it/s]\n",
      "100%|██████████| 20/20 [00:00<00:00, 50.57it/s]\n",
      "100%|██████████| 20/20 [00:00<00:00, 49.62it/s]\n",
      "100%|██████████| 20/20 [00:00<00:00, 50.22it/s]\n",
      "100%|██████████| 20/20 [00:00<00:00, 50.01it/s]\n",
      "100%|██████████| 20/20 [00:00<00:00, 50.30it/s]\n",
      "100%|██████████| 20/20 [00:00<00:00, 50.22it/s]\n",
      "100%|██████████| 20/20 [00:00<00:00, 50.43it/s]\n",
      "100%|██████████| 20/20 [00:00<00:00, 50.94it/s]\n",
      "100%|██████████| 20/20 [00:00<00:00, 47.13it/s]\n",
      "100%|██████████| 20/20 [00:00<00:00, 45.30it/s]\n",
      "100%|██████████| 20/20 [00:00<00:00, 48.62it/s]\n",
      "100%|██████████| 20/20 [00:00<00:00, 49.61it/s]\n",
      "100%|██████████| 20/20 [00:00<00:00, 50.02it/s]\n",
      "100%|██████████| 20/20 [00:00<00:00, 50.23it/s]\n",
      "100%|██████████| 20/20 [00:00<00:00, 50.62it/s]\n",
      "100%|██████████| 20/20 [00:00<00:00, 47.17it/s]\n",
      "100%|██████████| 20/20 [00:00<00:00, 44.30it/s]\n",
      "100%|██████████| 20/20 [00:00<00:00, 45.76it/s]\n",
      "100%|██████████| 20/20 [00:00<00:00, 34.90it/s]\n",
      "100%|██████████| 20/20 [00:00<00:00, 43.83it/s]\n",
      "100%|██████████| 20/20 [00:00<00:00, 44.15it/s]\n",
      "100%|██████████| 20/20 [00:00<00:00, 42.72it/s]\n",
      "100%|██████████| 20/20 [00:00<00:00, 41.03it/s]\n",
      "100%|██████████| 20/20 [00:00<00:00, 42.26it/s]\n",
      "100%|██████████| 20/20 [00:00<00:00, 39.92it/s]\n",
      "100%|██████████| 20/20 [00:00<00:00, 39.92it/s]\n",
      "100%|██████████| 20/20 [00:00<00:00, 40.15it/s]\n",
      "100%|██████████| 20/20 [00:00<00:00, 40.62it/s]\n",
      "100%|██████████| 20/20 [00:00<00:00, 40.42it/s]\n",
      "100%|██████████| 20/20 [00:00<00:00, 39.65it/s]\n",
      "100%|██████████| 20/20 [00:00<00:00, 39.85it/s]\n",
      "100%|██████████| 20/20 [00:00<00:00, 35.00it/s]\n",
      "100%|██████████| 20/20 [00:00<00:00, 30.40it/s]\n",
      "100%|██████████| 20/20 [00:00<00:00, 31.45it/s]\n",
      "100%|██████████| 20/20 [00:00<00:00, 30.54it/s]\n",
      "100%|██████████| 20/20 [00:01<00:00, 18.35it/s]\n",
      "100%|██████████| 20/20 [00:00<00:00, 26.09it/s]\n",
      "100%|██████████| 20/20 [00:00<00:00, 29.69it/s]\n",
      "100%|██████████| 20/20 [00:00<00:00, 28.39it/s]\n",
      "100%|██████████| 20/20 [00:00<00:00, 29.16it/s]\n",
      "100%|██████████| 20/20 [00:00<00:00, 30.25it/s]\n",
      "100%|██████████| 20/20 [00:00<00:00, 32.62it/s]\n",
      "100%|██████████| 20/20 [00:00<00:00, 34.74it/s]\n",
      "100%|██████████| 20/20 [00:00<00:00, 35.47it/s]\n",
      "100%|██████████| 20/20 [00:00<00:00, 39.45it/s]\n",
      "100%|██████████| 20/20 [00:00<00:00, 32.99it/s]\n",
      "100%|██████████| 20/20 [00:00<00:00, 28.42it/s]\n",
      "100%|██████████| 20/20 [00:00<00:00, 42.13it/s]\n",
      "100%|██████████| 20/20 [00:00<00:00, 36.62it/s]\n",
      "100%|██████████| 20/20 [00:00<00:00, 39.13it/s]\n",
      "100%|██████████| 20/20 [00:00<00:00, 44.54it/s]\n",
      "100%|██████████| 20/20 [00:00<00:00, 45.02it/s]\n",
      "100%|██████████| 20/20 [00:00<00:00, 39.76it/s]\n",
      "100%|██████████| 20/20 [00:00<00:00, 36.03it/s]\n",
      "100%|██████████| 20/20 [00:00<00:00, 39.68it/s]\n",
      "100%|██████████| 20/20 [00:00<00:00, 35.23it/s]\n",
      "100%|██████████| 20/20 [00:00<00:00, 37.75it/s]\n",
      "100%|██████████| 20/20 [00:00<00:00, 45.60it/s]\n",
      "100%|██████████| 20/20 [00:00<00:00, 41.97it/s]\n",
      "100%|██████████| 20/20 [00:00<00:00, 34.30it/s]\n",
      "100%|██████████| 20/20 [00:00<00:00, 38.42it/s]\n",
      "100%|██████████| 20/20 [00:05<00:00,  3.76it/s]\n",
      "100%|██████████| 20/20 [00:00<00:00, 33.19it/s]\n",
      "100%|██████████| 20/20 [00:00<00:00, 33.91it/s]\n",
      "100%|██████████| 20/20 [00:01<00:00, 18.81it/s]\n",
      "100%|██████████| 20/20 [00:00<00:00, 30.66it/s]\n",
      "100%|██████████| 20/20 [00:00<00:00, 36.13it/s]\n",
      "100%|██████████| 20/20 [00:00<00:00, 40.56it/s]\n",
      "100%|██████████| 20/20 [00:00<00:00, 36.48it/s]\n",
      "100%|██████████| 20/20 [00:00<00:00, 36.38it/s]\n",
      "100%|██████████| 20/20 [00:00<00:00, 42.21it/s]\n",
      "100%|██████████| 20/20 [00:00<00:00, 37.58it/s]\n",
      "100%|██████████| 20/20 [00:00<00:00, 38.11it/s]\n",
      "100%|██████████| 20/20 [00:00<00:00, 42.04it/s]\n",
      "100%|██████████| 20/20 [00:00<00:00, 42.02it/s]\n",
      "100%|██████████| 20/20 [00:00<00:00, 43.45it/s]\n",
      "100%|██████████| 20/20 [00:00<00:00, 45.01it/s]\n",
      "100%|██████████| 20/20 [00:00<00:00, 45.47it/s]\n",
      "100%|██████████| 20/20 [00:00<00:00, 47.22it/s]\n",
      "100%|██████████| 20/20 [00:00<00:00, 47.21it/s]\n",
      "100%|██████████| 20/20 [00:00<00:00, 46.90it/s]\n",
      "100%|██████████| 20/20 [00:00<00:00, 46.60it/s]\n",
      "100%|██████████| 20/20 [00:00<00:00, 47.75it/s]\n",
      "100%|██████████| 20/20 [00:00<00:00, 48.79it/s]\n",
      "100%|██████████| 20/20 [00:00<00:00, 48.78it/s]\n",
      "100%|██████████| 20/20 [00:00<00:00, 49.11it/s]\n",
      "100%|██████████| 20/20 [00:00<00:00, 48.73it/s]\n",
      "100%|██████████| 20/20 [00:00<00:00, 48.78it/s]\n",
      "100%|██████████| 20/20 [00:00<00:00, 48.37it/s]\n",
      "100%|██████████| 20/20 [00:00<00:00, 44.75it/s]\n",
      "100%|██████████| 20/20 [00:00<00:00, 35.51it/s]\n",
      "100%|██████████| 20/20 [00:00<00:00, 46.90it/s]\n",
      "100%|██████████| 20/20 [00:00<00:00, 43.28it/s]\n",
      "100%|██████████| 20/20 [00:00<00:00, 47.49it/s]\n",
      "100%|██████████| 20/20 [00:00<00:00, 47.67it/s]\n",
      "100%|██████████| 20/20 [00:00<00:00, 48.58it/s]\n",
      "100%|██████████| 20/20 [00:00<00:00, 49.41it/s]\n",
      "100%|██████████| 20/20 [00:00<00:00, 48.24it/s]\n",
      "100%|██████████| 20/20 [00:00<00:00, 48.29it/s]\n",
      "100%|██████████| 20/20 [00:00<00:00, 43.13it/s]\n",
      "100%|██████████| 20/20 [00:00<00:00, 43.19it/s]\n",
      "100%|██████████| 20/20 [00:00<00:00, 45.33it/s]\n",
      "100%|██████████| 20/20 [00:00<00:00, 45.98it/s]\n",
      "100%|██████████| 20/20 [00:00<00:00, 40.63it/s]\n",
      "100%|██████████| 20/20 [00:00<00:00, 44.32it/s]\n",
      "100%|██████████| 20/20 [00:00<00:00, 34.58it/s]\n",
      "100%|██████████| 20/20 [00:00<00:00, 35.80it/s]\n",
      "100%|██████████| 20/20 [00:00<00:00, 31.22it/s]\n",
      "100%|██████████| 20/20 [00:00<00:00, 34.14it/s]\n",
      "100%|██████████| 20/20 [00:00<00:00, 28.90it/s]\n",
      "100%|██████████| 20/20 [00:00<00:00, 32.08it/s]\n",
      "100%|██████████| 20/20 [00:00<00:00, 41.13it/s]\n"
     ]
    },
    {
     "name": "stderr",
     "output_type": "stream",
     "text": [
      "100%|██████████| 20/20 [00:00<00:00, 41.69it/s]\n",
      "100%|██████████| 20/20 [00:00<00:00, 42.95it/s]\n",
      "100%|██████████| 20/20 [00:00<00:00, 41.51it/s]\n",
      "100%|██████████| 20/20 [00:00<00:00, 41.43it/s]\n",
      "100%|██████████| 20/20 [00:00<00:00, 42.39it/s]\n",
      "100%|██████████| 20/20 [00:00<00:00, 42.04it/s]\n",
      "100%|██████████| 20/20 [00:00<00:00, 41.40it/s]\n",
      "100%|██████████| 20/20 [00:00<00:00, 45.41it/s]\n",
      "100%|██████████| 20/20 [00:00<00:00, 45.63it/s]\n",
      "100%|██████████| 20/20 [00:00<00:00, 45.84it/s]\n",
      "100%|██████████| 20/20 [00:00<00:00, 44.32it/s]\n",
      "100%|██████████| 20/20 [00:00<00:00, 47.66it/s]\n",
      "100%|██████████| 20/20 [00:00<00:00, 47.37it/s]\n",
      "100%|██████████| 20/20 [00:00<00:00, 40.61it/s]\n",
      "100%|██████████| 20/20 [00:00<00:00, 47.04it/s]\n",
      "100%|██████████| 20/20 [00:00<00:00, 49.45it/s]\n",
      "100%|██████████| 20/20 [00:00<00:00, 49.69it/s]\n",
      "100%|██████████| 20/20 [00:00<00:00, 48.22it/s]\n",
      "100%|██████████| 20/20 [00:00<00:00, 49.62it/s]\n",
      "100%|██████████| 20/20 [00:00<00:00, 48.45it/s]\n",
      "100%|██████████| 20/20 [00:00<00:00, 49.64it/s]\n",
      "100%|██████████| 20/20 [00:00<00:00, 48.30it/s]\n",
      "100%|██████████| 20/20 [00:00<00:00, 37.75it/s]\n",
      "100%|██████████| 20/20 [00:00<00:00, 43.70it/s]\n",
      "100%|██████████| 20/20 [00:00<00:00, 49.39it/s]\n",
      "100%|██████████| 20/20 [00:00<00:00, 43.12it/s]\n",
      "100%|██████████| 20/20 [00:00<00:00, 48.15it/s]\n",
      "100%|██████████| 20/20 [00:00<00:00, 47.21it/s]\n",
      "100%|██████████| 20/20 [00:00<00:00, 49.05it/s]\n",
      "100%|██████████| 20/20 [00:00<00:00, 46.71it/s]\n"
     ]
    }
   ],
   "source": [
    "experiment.learn_with_fitted() # Recurcive steps 3 & 4 of Algorithm 2"
   ]
  },
  {
   "cell_type": "code",
   "execution_count": 17,
   "metadata": {},
   "outputs": [],
   "source": [
    "# Translate prediction to a dataframe for the visualization class\n",
    "\n",
    "Prediction = experiment.to_df_list()\n",
    "\n",
    "# Translate solution to a dataframe for the visualization class\n",
    "Burgers_true = [pd.DataFrame(B, index = T, columns = X) for B in Burgers]"
   ]
  },
  {
   "cell_type": "code",
   "execution_count": 21,
   "metadata": {},
   "outputs": [
    {
     "name": "stdout",
     "output_type": "stream",
     "text": [
      "Total relative error for all test cases: 0.018665502056597127\n",
      "\n",
      "Average error over all test cases: 0.030987295198276837\n",
      "\n",
      "Maximum relative error among test cases: 0.0856935450752697\n"
     ]
    }
   ],
   "source": [
    "# Errors\n",
    "\n",
    "show = summary(experiment.test)\n",
    "er = show.errors(Burgers_true,Prediction)\n",
    "print('')\n",
    "av_er = show.errors(Burgers_true,Prediction, full = False, maxi = True)"
   ]
  },
  {
   "cell_type": "code",
   "execution_count": 41,
   "metadata": {},
   "outputs": [
    {
     "data": {
      "image/png": "[encoded data removed]",
      "text/plain": [
       "<Figure size 576x432 with 1 Axes>"
      ]
     },
     "metadata": {
      "needs_background": "light"
     },
     "output_type": "display_data"
    },
    {
     "name": "stdout",
     "output_type": "stream",
     "text": [
      "Error between solution and prediction at time 10.0 is : 0.16342924952938304.\n"
     ]
    },
    {
     "data": {
      "image/png": "[encoded data removed]",
      "text/plain": [
       "<Figure size 576x432 with 1 Axes>"
      ]
     },
     "metadata": {
      "needs_background": "light"
     },
     "output_type": "display_data"
    },
    {
     "name": "stdout",
     "output_type": "stream",
     "text": [
      "Error between solution and prediction at space point 0.0 is : 0.18572569329541092.\n"
     ]
    }
   ],
   "source": [
    "k, t, x = 19, 200, 256\n",
    "show.time_comparison(k, t, Burgers_true, Prediction, title = False)\n",
    "show.space_comparison(k, x, Burgers_true, Prediction, title = False)"
   ]
  },
  {
   "cell_type": "code",
   "execution_count": 20,
   "metadata": {},
   "outputs": [
    {
     "data": {
      "image/png": "[encoded data removed]",
      "text/plain": [
       "<Figure size 1152x432 with 4 Axes>"
      ]
     },
     "metadata": {
      "needs_background": "light"
     },
     "output_type": "display_data"
    },
    {
     "name": "stdout",
     "output_type": "stream",
     "text": [
      "Error: 0.08302303282507842\n"
     ]
    }
   ],
   "source": [
    "show.full_comparison(19, Burgers_true, Prediction)"
   ]
  },
  {
   "cell_type": "code",
   "execution_count": 67,
   "metadata": {},
   "outputs": [
    {
     "name": "stdout",
     "output_type": "stream",
     "text": [
      "Viscocity raw: [0.09055038]\n"
     ]
    }
   ],
   "source": [
    "# Regression to determine viscosity from train cases\n",
    "\n",
    "j = 0\n",
    "\n",
    "u_t = np.array([(Burgers_true[i].iloc[j+1].values-Burgers_true[i].iloc[j]).values/(T[1]-T[0]) for i in range(120) if i not in test]).flatten()\n",
    "\n",
    "dx = X[1]-X[0]\n",
    "\n",
    "M = SPDE(BC = 'P').Parabolic_Matrix(len(X)-1, 1, dx, inverse = False)\n",
    "\n",
    "u = np.array([Burgers_true[i].iloc[j].values for i in range(120) if i not in test])\n",
    "u_xx = np.array([np.dot(M, U) for U in u]).flatten()\n",
    "\n",
    "visc = lin_reg().fit(u_xx.reshape(-1, 1), u_t)\n",
    "\n",
    "print(\"Viscocity raw:\", visc.coef_)"
   ]
  },
  {
   "cell_type": "code",
   "execution_count": 69,
   "metadata": {},
   "outputs": [
    {
     "name": "stderr",
     "output_type": "stream",
     "text": [
      "\r",
      "  0%|          | 0/20000 [00:00<?, ?it/s]"
     ]
    },
    {
     "name": "stdout",
     "output_type": "stream",
     "text": [
      "Creating Model\n"
     ]
    },
    {
     "name": "stderr",
     "output_type": "stream",
     "text": [
      "100%|██████████| 20000/20000 [09:12<00:00, 36.23it/s]\n"
     ]
    }
   ],
   "source": [
    "# Algorithm 2 on the true data with learnt viscosity eps\n",
    "\n",
    "experiment_v = IML(Burgers, Rule = R, eps = 0.0905, height = 3, deg = 2.5, T = T, X = X) # initialize experiment for algorithm 2\n",
    "experiment_v.set_train_test(test = test) # initialize test set\n",
    "\n",
    "experiment_v.trees = experiment.trees # extract trees\n",
    "\n",
    "experiment_v.initialize_Predictions() \n",
    "\n",
    "experiment_v.training_models() # Create models for Step 2 of Algorithm 2"
   ]
  },
  {
   "cell_type": "code",
   "execution_count": 70,
   "metadata": {},
   "outputs": [
    {
     "name": "stderr",
     "output_type": "stream",
     "text": [
      "100%|██████████| 20/20 [00:00<00:00, 44.08it/s]\n",
      "100%|██████████| 20/20 [00:00<00:00, 44.61it/s]\n",
      "100%|██████████| 20/20 [00:00<00:00, 47.70it/s]\n",
      "100%|██████████| 20/20 [00:00<00:00, 43.85it/s]\n",
      "100%|██████████| 20/20 [00:00<00:00, 45.38it/s]\n",
      "100%|██████████| 20/20 [00:00<00:00, 45.71it/s]\n",
      "100%|██████████| 20/20 [00:00<00:00, 34.60it/s]\n",
      "100%|██████████| 20/20 [00:00<00:00, 42.69it/s]\n",
      "100%|██████████| 20/20 [00:00<00:00, 43.84it/s]\n",
      "100%|██████████| 20/20 [00:00<00:00, 43.86it/s]\n",
      "100%|██████████| 20/20 [00:00<00:00, 43.55it/s]\n",
      "100%|██████████| 20/20 [00:00<00:00, 41.79it/s]\n",
      "100%|██████████| 20/20 [00:00<00:00, 40.90it/s]\n",
      "100%|██████████| 20/20 [00:00<00:00, 41.40it/s]\n",
      "100%|██████████| 20/20 [00:00<00:00, 41.39it/s]\n",
      "100%|██████████| 20/20 [00:00<00:00, 40.17it/s]\n",
      "100%|██████████| 20/20 [00:00<00:00, 40.51it/s]\n",
      "100%|██████████| 20/20 [00:00<00:00, 40.74it/s]\n",
      "100%|██████████| 20/20 [00:00<00:00, 40.88it/s]\n",
      "100%|██████████| 20/20 [00:00<00:00, 39.80it/s]\n",
      "100%|██████████| 20/20 [00:00<00:00, 41.18it/s]\n",
      "100%|██████████| 20/20 [00:00<00:00, 37.88it/s]\n",
      "100%|██████████| 20/20 [00:00<00:00, 40.62it/s]\n",
      "100%|██████████| 20/20 [00:00<00:00, 41.18it/s]\n",
      "100%|██████████| 20/20 [00:00<00:00, 40.90it/s]\n",
      "100%|██████████| 20/20 [00:00<00:00, 40.56it/s]\n",
      "100%|██████████| 20/20 [00:00<00:00, 40.49it/s]\n",
      "100%|██████████| 20/20 [00:00<00:00, 37.58it/s]\n",
      "100%|██████████| 20/20 [00:00<00:00, 39.84it/s]\n",
      "100%|██████████| 20/20 [00:00<00:00, 40.37it/s]\n",
      "100%|██████████| 20/20 [00:00<00:00, 36.02it/s]\n",
      "100%|██████████| 20/20 [00:00<00:00, 35.36it/s]\n",
      "100%|██████████| 20/20 [00:00<00:00, 37.79it/s]\n",
      "100%|██████████| 20/20 [00:00<00:00, 36.69it/s]\n",
      "100%|██████████| 20/20 [00:00<00:00, 38.98it/s]\n",
      "100%|██████████| 20/20 [00:00<00:00, 42.99it/s]\n",
      "100%|██████████| 20/20 [00:00<00:00, 35.24it/s]\n",
      "100%|██████████| 20/20 [00:00<00:00, 36.26it/s]\n",
      "100%|██████████| 20/20 [00:00<00:00, 36.93it/s]\n",
      "100%|██████████| 20/20 [00:00<00:00, 33.17it/s]\n",
      "100%|██████████| 20/20 [00:00<00:00, 24.53it/s]\n",
      "100%|██████████| 20/20 [00:00<00:00, 26.20it/s]\n",
      "100%|██████████| 20/20 [00:00<00:00, 43.18it/s]\n",
      "100%|██████████| 20/20 [00:00<00:00, 42.68it/s]\n",
      "100%|██████████| 20/20 [00:00<00:00, 31.43it/s]\n",
      "100%|██████████| 20/20 [00:00<00:00, 43.29it/s]\n",
      "100%|██████████| 20/20 [00:00<00:00, 41.47it/s]\n",
      "100%|██████████| 20/20 [00:00<00:00, 40.76it/s]\n",
      "100%|██████████| 20/20 [00:00<00:00, 41.76it/s]\n",
      "100%|██████████| 20/20 [00:01<00:00, 15.37it/s]\n",
      "100%|██████████| 20/20 [00:00<00:00, 33.74it/s]\n",
      "100%|██████████| 20/20 [00:01<00:00, 12.00it/s]\n",
      "100%|██████████| 20/20 [00:00<00:00, 32.07it/s]\n",
      "100%|██████████| 20/20 [00:00<00:00, 39.65it/s]\n",
      "100%|██████████| 20/20 [00:00<00:00, 38.19it/s]\n",
      "100%|██████████| 20/20 [00:00<00:00, 39.56it/s]\n",
      "100%|██████████| 20/20 [00:00<00:00, 40.25it/s]\n",
      "100%|██████████| 20/20 [00:00<00:00, 40.73it/s]\n",
      "100%|██████████| 20/20 [00:00<00:00, 40.30it/s]\n",
      "100%|██████████| 20/20 [00:00<00:00, 39.96it/s]\n",
      "100%|██████████| 20/20 [00:00<00:00, 39.73it/s]\n",
      "100%|██████████| 20/20 [00:00<00:00, 39.18it/s]\n",
      "100%|██████████| 20/20 [00:00<00:00, 28.49it/s]\n",
      "100%|██████████| 20/20 [00:00<00:00, 38.47it/s]\n",
      "100%|██████████| 20/20 [00:00<00:00, 40.39it/s]\n",
      "100%|██████████| 20/20 [00:00<00:00, 40.91it/s]\n",
      "100%|██████████| 20/20 [00:00<00:00, 38.17it/s]\n",
      "100%|██████████| 20/20 [00:00<00:00, 38.96it/s]\n",
      "100%|██████████| 20/20 [00:00<00:00, 40.56it/s]\n",
      "100%|██████████| 20/20 [00:00<00:00, 41.68it/s]\n",
      "100%|██████████| 20/20 [00:00<00:00, 42.80it/s]\n",
      "100%|██████████| 20/20 [00:00<00:00, 42.45it/s]\n",
      "100%|██████████| 20/20 [00:00<00:00, 41.00it/s]\n",
      "100%|██████████| 20/20 [00:00<00:00, 37.26it/s]\n",
      "100%|██████████| 20/20 [00:00<00:00, 42.43it/s]\n",
      "100%|██████████| 20/20 [00:00<00:00, 41.45it/s]\n",
      "100%|██████████| 20/20 [00:00<00:00, 36.53it/s]\n",
      "100%|██████████| 20/20 [00:00<00:00, 42.06it/s]\n",
      "100%|██████████| 20/20 [00:00<00:00, 42.16it/s]\n",
      "100%|██████████| 20/20 [00:00<00:00, 41.80it/s]\n",
      "100%|██████████| 20/20 [00:00<00:00, 42.10it/s]\n",
      "100%|██████████| 20/20 [00:00<00:00, 41.02it/s]\n",
      "100%|██████████| 20/20 [00:00<00:00, 41.06it/s]\n",
      "100%|██████████| 20/20 [00:00<00:00, 36.15it/s]\n",
      "100%|██████████| 20/20 [00:00<00:00, 41.02it/s]\n",
      "100%|██████████| 20/20 [00:00<00:00, 41.63it/s]\n",
      "100%|██████████| 20/20 [00:00<00:00, 37.51it/s]\n",
      "100%|██████████| 20/20 [00:00<00:00, 41.68it/s]\n",
      "100%|██████████| 20/20 [00:00<00:00, 40.87it/s]\n",
      "100%|██████████| 20/20 [00:00<00:00, 42.30it/s]\n",
      "100%|██████████| 20/20 [00:00<00:00, 42.40it/s]\n",
      "100%|██████████| 20/20 [00:00<00:00, 43.64it/s]\n",
      "100%|██████████| 20/20 [00:00<00:00, 43.29it/s]\n",
      "100%|██████████| 20/20 [00:00<00:00, 43.54it/s]\n",
      "100%|██████████| 20/20 [00:00<00:00, 41.97it/s]\n",
      "100%|██████████| 20/20 [00:00<00:00, 43.43it/s]\n",
      "100%|██████████| 20/20 [00:00<00:00, 43.38it/s]\n",
      "100%|██████████| 20/20 [00:00<00:00, 42.05it/s]\n",
      "100%|██████████| 20/20 [00:00<00:00, 43.08it/s]\n",
      "100%|██████████| 20/20 [00:00<00:00, 43.72it/s]\n",
      "100%|██████████| 20/20 [00:00<00:00, 42.95it/s]\n",
      "100%|██████████| 20/20 [00:00<00:00, 37.58it/s]\n",
      "100%|██████████| 20/20 [00:00<00:00, 40.46it/s]\n",
      "100%|██████████| 20/20 [00:00<00:00, 40.42it/s]\n",
      "100%|██████████| 20/20 [00:00<00:00, 41.90it/s]\n",
      "100%|██████████| 20/20 [00:00<00:00, 39.68it/s]\n",
      "100%|██████████| 20/20 [00:00<00:00, 40.77it/s]\n",
      "100%|██████████| 20/20 [00:00<00:00, 39.55it/s]\n",
      "100%|██████████| 20/20 [00:00<00:00, 40.63it/s]\n",
      "100%|██████████| 20/20 [00:00<00:00, 39.57it/s]\n",
      "100%|██████████| 20/20 [00:00<00:00, 43.00it/s]\n",
      "100%|██████████| 20/20 [00:00<00:00, 42.78it/s]\n",
      "100%|██████████| 20/20 [00:00<00:00, 41.68it/s]\n",
      "100%|██████████| 20/20 [00:01<00:00, 18.16it/s]\n",
      "100%|██████████| 20/20 [00:00<00:00, 24.75it/s]\n",
      "100%|██████████| 20/20 [00:00<00:00, 32.41it/s]\n",
      "100%|██████████| 20/20 [00:00<00:00, 40.07it/s]\n",
      "100%|██████████| 20/20 [00:00<00:00, 39.40it/s]\n",
      "100%|██████████| 20/20 [00:00<00:00, 39.67it/s]\n",
      "100%|██████████| 20/20 [00:00<00:00, 39.44it/s]\n",
      "100%|██████████| 20/20 [00:00<00:00, 39.18it/s]\n",
      "100%|██████████| 20/20 [00:00<00:00, 37.94it/s]\n",
      "100%|██████████| 20/20 [00:00<00:00, 38.93it/s]\n",
      "100%|██████████| 20/20 [00:00<00:00, 33.77it/s]\n",
      "100%|██████████| 20/20 [00:00<00:00, 39.78it/s]\n",
      "100%|██████████| 20/20 [00:00<00:00, 38.56it/s]\n",
      "100%|██████████| 20/20 [00:00<00:00, 38.29it/s]\n",
      "100%|██████████| 20/20 [00:00<00:00, 37.23it/s]\n",
      "100%|██████████| 20/20 [00:00<00:00, 36.78it/s]\n",
      "100%|██████████| 20/20 [00:00<00:00, 39.60it/s]\n",
      "100%|██████████| 20/20 [00:00<00:00, 38.51it/s]\n",
      "100%|██████████| 20/20 [00:00<00:00, 41.61it/s]\n",
      "100%|██████████| 20/20 [00:00<00:00, 39.39it/s]\n",
      "100%|██████████| 20/20 [00:00<00:00, 41.08it/s]\n",
      "100%|██████████| 20/20 [00:00<00:00, 33.71it/s]\n",
      "100%|██████████| 20/20 [00:00<00:00, 36.10it/s]\n",
      "100%|██████████| 20/20 [00:00<00:00, 37.22it/s]\n",
      "100%|██████████| 20/20 [00:00<00:00, 42.64it/s]\n",
      "100%|██████████| 20/20 [00:00<00:00, 41.17it/s]\n",
      "100%|██████████| 20/20 [00:00<00:00, 41.25it/s]\n",
      "100%|██████████| 20/20 [00:00<00:00, 42.99it/s]\n",
      "100%|██████████| 20/20 [00:00<00:00, 42.93it/s]\n",
      "100%|██████████| 20/20 [00:00<00:00, 42.25it/s]\n",
      "100%|██████████| 20/20 [00:00<00:00, 23.72it/s]\n",
      "100%|██████████| 20/20 [00:00<00:00, 35.72it/s]\n",
      "100%|██████████| 20/20 [00:00<00:00, 35.92it/s]\n",
      "100%|██████████| 20/20 [00:00<00:00, 37.78it/s]\n",
      "100%|██████████| 20/20 [00:00<00:00, 28.07it/s]\n",
      "100%|██████████| 20/20 [00:00<00:00, 43.45it/s]\n",
      "100%|██████████| 20/20 [00:00<00:00, 38.21it/s]\n",
      "100%|██████████| 20/20 [00:00<00:00, 40.62it/s]\n",
      "100%|██████████| 20/20 [00:00<00:00, 41.99it/s]\n",
      "100%|██████████| 20/20 [00:00<00:00, 40.07it/s]\n",
      "100%|██████████| 20/20 [00:00<00:00, 37.48it/s]\n",
      "100%|██████████| 20/20 [00:00<00:00, 37.78it/s]\n",
      "100%|██████████| 20/20 [00:00<00:00, 33.57it/s]\n",
      "100%|██████████| 20/20 [00:00<00:00, 35.86it/s]\n",
      "100%|██████████| 20/20 [00:00<00:00, 38.38it/s]\n",
      "100%|██████████| 20/20 [00:00<00:00, 34.69it/s]\n",
      "100%|██████████| 20/20 [00:00<00:00, 31.62it/s]\n",
      "100%|██████████| 20/20 [00:00<00:00, 37.68it/s]\n",
      "100%|██████████| 20/20 [00:00<00:00, 38.55it/s]\n",
      "100%|██████████| 20/20 [00:00<00:00, 38.13it/s]\n",
      "100%|██████████| 20/20 [00:00<00:00, 38.58it/s]\n",
      "100%|██████████| 20/20 [00:00<00:00, 38.42it/s]\n",
      "100%|██████████| 20/20 [00:00<00:00, 38.89it/s]\n",
      "100%|██████████| 20/20 [00:00<00:00, 40.04it/s]\n",
      "100%|██████████| 20/20 [00:00<00:00, 40.01it/s]\n",
      "100%|██████████| 20/20 [00:00<00:00, 39.23it/s]\n",
      "100%|██████████| 20/20 [00:00<00:00, 39.20it/s]\n"
     ]
    },
    {
     "name": "stderr",
     "output_type": "stream",
     "text": [
      "100%|██████████| 20/20 [00:00<00:00, 40.76it/s]\n",
      "100%|██████████| 20/20 [00:00<00:00, 34.93it/s]\n",
      "100%|██████████| 20/20 [00:00<00:00, 41.72it/s]\n",
      "100%|██████████| 20/20 [00:00<00:00, 42.24it/s]\n",
      "100%|██████████| 20/20 [00:00<00:00, 42.01it/s]\n",
      "100%|██████████| 20/20 [00:00<00:00, 38.79it/s]\n",
      "100%|██████████| 20/20 [00:00<00:00, 42.94it/s]\n",
      "100%|██████████| 20/20 [00:00<00:00, 42.39it/s]\n",
      "100%|██████████| 20/20 [00:00<00:00, 42.85it/s]\n",
      "100%|██████████| 20/20 [00:00<00:00, 44.34it/s]\n",
      "100%|██████████| 20/20 [00:00<00:00, 44.17it/s]\n",
      "100%|██████████| 20/20 [00:00<00:00, 43.38it/s]\n",
      "100%|██████████| 20/20 [00:00<00:00, 41.70it/s]\n",
      "100%|██████████| 20/20 [00:00<00:00, 43.10it/s]\n",
      "100%|██████████| 20/20 [00:00<00:00, 42.88it/s]\n",
      "100%|██████████| 20/20 [00:00<00:00, 42.57it/s]\n",
      "100%|██████████| 20/20 [00:00<00:00, 44.06it/s]\n",
      "100%|██████████| 20/20 [00:00<00:00, 39.15it/s]\n",
      "100%|██████████| 20/20 [00:00<00:00, 38.02it/s]\n",
      "100%|██████████| 20/20 [00:00<00:00, 35.97it/s]\n",
      "100%|██████████| 20/20 [00:00<00:00, 37.30it/s]\n",
      "100%|██████████| 20/20 [00:00<00:00, 38.62it/s]\n",
      "100%|██████████| 20/20 [00:00<00:00, 34.49it/s]\n",
      "100%|██████████| 20/20 [00:00<00:00, 41.17it/s]\n",
      "100%|██████████| 20/20 [00:00<00:00, 40.78it/s]\n",
      "100%|██████████| 20/20 [00:00<00:00, 39.12it/s]\n",
      "100%|██████████| 20/20 [00:00<00:00, 32.77it/s]\n",
      "100%|██████████| 20/20 [00:00<00:00, 29.56it/s]\n",
      "100%|██████████| 20/20 [00:00<00:00, 33.90it/s]\n",
      "100%|██████████| 20/20 [00:00<00:00, 38.77it/s]\n"
     ]
    }
   ],
   "source": [
    "experiment_v.fit_training_model() # Linear fit for Step 2 of Algorithm 2\n",
    "experiment_v.learn_with_fitted() # Recurcive steps 3 & 4 of Algorithm 2"
   ]
  },
  {
   "cell_type": "code",
   "execution_count": 71,
   "metadata": {},
   "outputs": [
    {
     "name": "stdout",
     "output_type": "stream",
     "text": [
      "Total relative error for all test cases: 0.018671086964024305\n",
      "\n",
      "Average error over all test cases: 0.03100327707291072\n",
      "\n",
      "Maximum relative error among test cases: 0.08635671168250332\n"
     ]
    }
   ],
   "source": [
    "Prediction_v = experiment_v.to_df_list()\n",
    "\n",
    "er_v = show.errors(Burgers_true,Prediction_v)\n",
    "print('')\n",
    "av_er_v = show.errors(Burgers_true,Prediction_v, full = False, maxi = True)"
   ]
  },
  {
   "cell_type": "code",
   "execution_count": null,
   "metadata": {},
   "outputs": [],
   "source": [
    "# Euler Algorithm. Functions and implemintaton\n",
    "\n",
    "def Euler_training(Solution, T, X, train, num):\n",
    "        \n",
    "    dt, dx = T[1]-T[0], X[1]-X[0]\n",
    "\n",
    "    IC = np.array([Solution[u, i, :] for u in train for i in range(len(T)-1)])\n",
    "    IC_x = np.array([SPDE().discrete_diff(ic, N = len(X), flatten=True, higher = False)/dx for ic in IC])\n",
    "    Non_lin1 = IC*IC_x\n",
    "\n",
    "    Delta_IC = np.array([np.dot(SPDE(BC = \"P\").Parabolic_Matrix(len(X)-1, 1, dx, inverse = False), ic) for ic in IC])\n",
    "\n",
    "    Model = []\n",
    "    for i, ic in enumerate(IC):\n",
    "        M = {}\n",
    "        k = 0\n",
    "        for j in range(0-num,0+num+1):\n",
    "            M[(k,1)] = np.array([IC[i], np.roll(IC[i], j)])\n",
    "            M[(k,2)] = np.array([Non_lin1[i], np.roll(Non_lin1[i], j)])\n",
    "            M[(k,3)] = np.array([Delta_IC[i], np.roll(Delta_IC[i], j)])\n",
    "            k+=1\n",
    "        Model.append(M)\n",
    "\n",
    "    return Model\n",
    "    \n",
    "def Euler(start, Solution, Prediction, T, X, test, train, num, eps, higher = False):\n",
    "    \n",
    "    l, dx = len(test) + len(train), X[1]-X[0]\n",
    "    IC = np.zeros((l, len(X)))\n",
    "    if train != []:\n",
    "        IC[train] = np.array([Solution[t, start, :] for t in train])\n",
    "        IC[test] = experiment.cut_off(Prediction[start].T)\n",
    "    else:\n",
    "        IC = experiment_n.cut_off(Prediction[start].T)\n",
    "    \n",
    "    IC_x = np.array([SPDE().discrete_diff(IC[i], N = len(X), flatten=True, higher = False)/dx for i in range(l)])\n",
    "    \n",
    "    Non_lin1 = IC*IC_x\n",
    "    \n",
    "    Delta_IC = np.array([np.dot(SPDE(BC = \"P\").Parabolic_Matrix(len(X)-1, eps, dx, inverse = False), IC[i]) for i in range(l)])\n",
    "    \n",
    "    Model = []\n",
    "    for i in tqdm(range(l)):\n",
    "        M = {}\n",
    "        k = 0\n",
    "        for j in range(0-num,0+num+1):\n",
    "            M[(k,1)] = np.array([IC[i], np.roll(IC[i], j)])\n",
    "            M[(k,2)] = np.array([Non_lin1[i], np.roll(Non_lin1[i], j)])\n",
    "            M[(k,3)] = np.array([Delta_IC[i], np.roll(Delta_IC[i], j)])\n",
    "            k+=1\n",
    "        Model.append(M)\n",
    "            \n",
    "    return Model\n",
    "\n",
    "num = 0\n",
    "dummy_interval = [1,2,3]\n",
    "\n",
    "experiment_e = IML(Burgers, eps = 0.1 R, 3, 3.5, 1)\n",
    "experiment_e.set_train_test(test = test)\n",
    "experiment_e.trees = [(k,i) for k in range(2*num+1) for i in dummy_interval]\n",
    "experiment_e.initialize_Predictions()\n",
    "\n",
    "experiment_e.M_train = Euler_training(Burgers_true, T, X, experiment_e.train, num, higher)\n",
    "\n",
    "experiment_e.fit_training_model()\n",
    "\n",
    "for i in range(0,15):\n",
    "    experiment_e.M_test.append(Euler(i*experiment_e.step, experiment_e.Sol, experiment_e.Pred,\n",
    "                                  experiment_e.T, experiment_e.X, experiment_e.test, [], num, 1, higher))\n",
    "    experiment_e.predict_with_fitted(i, experiment_e.M_test[-1], experiment_e.Pred, experiment_e.T, experiment_e.X,\n",
    "                                     experiment_e.trees, experiment_e.test, experiment_e.train)"
   ]
  },
  {
   "cell_type": "code",
   "execution_count": 62,
   "metadata": {},
   "outputs": [
    {
     "name": "stdout",
     "output_type": "stream",
     "text": [
      "Coefficients of equation obtained from regression: Viscocity coef: 0.12713315329321892, Non-lin coef: -0.9594639712492525.\n"
     ]
    }
   ],
   "source": [
    "# PDE-FIND to learn coefficients of equation\n",
    "\n",
    "dt, dx = T[1]-T[0], X[1]-X[0]\n",
    "M = SPDE(BC = 'P').Parabolic_Matrix(len(X)-1, 1, dx, inverse = False).T\n",
    "\n",
    "u_t = np.array([(Burgers_true[i].iloc[j+1]-Burgers_true[i].iloc[j]).values/dt for i in range(120) if i not in test for j in range(len(T)-1)]).flatten()\n",
    "u = np.array([Burgers_true[i].iloc[j].values for i in range(120) if i not in test for j in range(len(T)-1)])\n",
    "u_x = np.array([SPDE().discrete_diff(U, N = len(X), flatten=True, higher = False)/dx for U in u]).flatten()\n",
    "u_xx = np.dot(u, M).flatten()\n",
    "u2_x = u.flatten()*u_x\n",
    "\n",
    "truth = lin_reg(fit_intercept = True).fit(np.array([u_xx, u2_x]).T, u_t)\n",
    "\n",
    "print(\"Coefficients of equation obtained from regression: Viscocity coef: {}, Non-lin coef: {}.\".format(truth.coef_[0],truth.coef_[1]))"
   ]
  },
  {
   "cell_type": "code",
   "execution_count": 58,
   "metadata": {},
   "outputs": [
    {
     "name": "stderr",
     "output_type": "stream",
     "text": [
      "100%|██████████| 2000/2000 [00:04<00:00, 466.75it/s]\n"
     ]
    }
   ],
   "source": [
    "IC_ = IC[:,::2]\n",
    "\n",
    "W_ = np.zeros((120, len(T_), len(X)))\n",
    "\n",
    "Burgers_find = SPDE(BC = 'P', IC = IC_, eps = 0.1271).Burgers(W_, lambd = 0.9594, T = T_, X = X)\n",
    "\n",
    "Burgers_find = [pd.DataFrame(Burgers_find[i, ::10, :], index = T, columns = X) for i in test]\n"
   ]
  },
  {
   "cell_type": "code",
   "execution_count": 59,
   "metadata": {},
   "outputs": [
    {
     "name": "stdout",
     "output_type": "stream",
     "text": [
      "Total relative error for all test cases: 0.02734177451353686\n",
      "\n",
      "Average error over all test cases: 0.03516041481111914\n",
      "\n",
      "Maximum relative error among test cases: 0.07384874193117753\n"
     ]
    }
   ],
   "source": [
    "er_find = show.errors(Burgers_true,Burgers_find)\n",
    "print('')\n",
    "av_er_find = show.errors(Burgers_true,Burgers_find, full = False, maxi = True)"
   ]
  },
  {
   "cell_type": "code",
   "execution_count": 55,
   "metadata": {},
   "outputs": [],
   "source": [
    "Burgers_noise = np.array([B+np.random.normal(scale = 0.01*np.abs(B).mean().mean(), size = (len(T),len(X))) for B in Burgers])\n",
    "for i in range(120):\n",
    "    Burgers_noise[i, :, -1] = Burgers_noise[i, :, 0]\n",
    "    \n",
    "Burgers_noise_df = [pd.DataFrame(B, index = T, columns = X) for B in Burgers_noise]"
   ]
  },
  {
   "cell_type": "code",
   "execution_count": 60,
   "metadata": {},
   "outputs": [
    {
     "name": "stdout",
     "output_type": "stream",
     "text": [
      "Total relative error for all test cases: 0.009691925225607323\n",
      "\n",
      "Average error over all test cases: 0.00928066440750464\n",
      "\n",
      "Maximum relative error among test cases: 0.010031300438198814\n"
     ]
    }
   ],
   "source": [
    "# Double check that approximatelly 1% error is added\n",
    "\n",
    "er_ = show.errors(Burgers_true,[Burgers_noise_df[i] for i in test])\n",
    "print('')\n",
    "av_er_ = show.errors(Burgers_true,[Burgers_noise_df[i] for i in test], full = False, maxi = True)"
   ]
  },
  {
   "cell_type": "code",
   "execution_count": 61,
   "metadata": {},
   "outputs": [
    {
     "name": "stderr",
     "output_type": "stream",
     "text": [
      "  0%|          | 6/20000 [00:00<06:18, 52.86it/s]"
     ]
    },
    {
     "name": "stdout",
     "output_type": "stream",
     "text": [
      "Creating Model\n"
     ]
    },
    {
     "name": "stderr",
     "output_type": "stream",
     "text": [
      "100%|██████████| 20000/20000 [09:30<00:00, 35.06it/s]\n"
     ]
    }
   ],
   "source": [
    "# Algorithm 2 on the noisy data\n",
    "\n",
    "experiment_noise = IML(Burgers_noise, Rule = R, eps = 0.1, height = 3, deg = 2.5, T = T, X = X) # initialize experiment for algorithm 2\n",
    "experiment_noise.set_train_test(test = test) # initialize test set\n",
    "\n",
    "experiment_noise.trees = experiment.trees # extract trees\n",
    "\n",
    "experiment_noise.initialize_Predictions() \n",
    "\n",
    "experiment_noise.training_models() # Create models for Step 2 of Algorithm 2"
   ]
  },
  {
   "cell_type": "code",
   "execution_count": 63,
   "metadata": {},
   "outputs": [
    {
     "name": "stderr",
     "output_type": "stream",
     "text": [
      "100%|██████████| 20/20 [00:02<00:00,  7.22it/s]\n",
      "100%|██████████| 20/20 [00:02<00:00,  7.41it/s]\n",
      "100%|██████████| 20/20 [00:01<00:00, 19.62it/s]\n",
      "100%|██████████| 20/20 [00:01<00:00, 16.36it/s]\n",
      "100%|██████████| 20/20 [00:01<00:00, 16.30it/s]\n",
      "100%|██████████| 20/20 [00:00<00:00, 20.07it/s]\n",
      "100%|██████████| 20/20 [00:00<00:00, 27.60it/s]\n",
      "100%|██████████| 20/20 [00:00<00:00, 33.69it/s]\n",
      "100%|██████████| 20/20 [00:00<00:00, 25.78it/s]\n",
      "100%|██████████| 20/20 [00:00<00:00, 36.40it/s]\n",
      "100%|██████████| 20/20 [00:00<00:00, 40.31it/s]\n",
      "100%|██████████| 20/20 [00:00<00:00, 37.00it/s]\n",
      "100%|██████████| 20/20 [00:00<00:00, 36.45it/s]\n",
      "100%|██████████| 20/20 [00:00<00:00, 26.05it/s]\n",
      "100%|██████████| 20/20 [00:00<00:00, 31.10it/s]\n",
      "100%|██████████| 20/20 [00:01<00:00, 16.48it/s]\n",
      "100%|██████████| 20/20 [00:00<00:00, 37.39it/s]\n",
      "100%|██████████| 20/20 [00:01<00:00, 11.42it/s]\n",
      "100%|██████████| 20/20 [00:00<00:00, 21.03it/s]\n",
      "100%|██████████| 20/20 [00:00<00:00, 25.81it/s]\n",
      "100%|██████████| 20/20 [00:00<00:00, 34.13it/s]\n",
      "100%|██████████| 20/20 [00:00<00:00, 28.35it/s]\n",
      "100%|██████████| 20/20 [00:00<00:00, 32.12it/s]\n",
      "100%|██████████| 20/20 [00:00<00:00, 25.20it/s]\n",
      "100%|██████████| 20/20 [00:00<00:00, 34.72it/s]\n",
      "100%|██████████| 20/20 [00:00<00:00, 28.18it/s]\n",
      "100%|██████████| 20/20 [00:00<00:00, 35.53it/s]\n",
      "100%|██████████| 20/20 [00:00<00:00, 34.89it/s]\n",
      "100%|██████████| 20/20 [00:00<00:00, 22.84it/s]\n",
      "100%|██████████| 20/20 [00:00<00:00, 35.38it/s]\n",
      "100%|██████████| 20/20 [00:00<00:00, 22.12it/s]\n",
      "100%|██████████| 20/20 [00:00<00:00, 22.96it/s]\n",
      "100%|██████████| 20/20 [00:01<00:00, 15.77it/s]\n",
      "100%|██████████| 20/20 [00:00<00:00, 33.75it/s]\n",
      "100%|██████████| 20/20 [00:01<00:00, 19.97it/s]\n",
      "100%|██████████| 20/20 [00:00<00:00, 33.41it/s]\n",
      "100%|██████████| 20/20 [00:00<00:00, 34.80it/s]\n",
      "100%|██████████| 20/20 [00:00<00:00, 35.74it/s]\n",
      "100%|██████████| 20/20 [00:00<00:00, 34.10it/s]\n",
      "100%|██████████| 20/20 [00:00<00:00, 27.53it/s]\n",
      "100%|██████████| 20/20 [00:00<00:00, 26.71it/s]\n",
      "100%|██████████| 20/20 [00:00<00:00, 30.18it/s]\n",
      "100%|██████████| 20/20 [00:00<00:00, 35.29it/s]\n",
      "100%|██████████| 20/20 [00:00<00:00, 30.86it/s]\n",
      "100%|██████████| 20/20 [00:00<00:00, 34.42it/s]\n",
      "100%|██████████| 20/20 [00:00<00:00, 26.17it/s]\n",
      "100%|██████████| 20/20 [00:00<00:00, 29.72it/s]\n",
      "100%|██████████| 20/20 [00:00<00:00, 34.63it/s]\n",
      "100%|██████████| 20/20 [00:00<00:00, 35.64it/s]\n",
      "100%|██████████| 20/20 [00:00<00:00, 32.72it/s]\n",
      "100%|██████████| 20/20 [00:00<00:00, 33.11it/s]\n",
      "100%|██████████| 20/20 [00:00<00:00, 37.46it/s]\n",
      "100%|██████████| 20/20 [00:00<00:00, 39.36it/s]\n",
      "100%|██████████| 20/20 [00:00<00:00, 41.91it/s]\n",
      "100%|██████████| 20/20 [00:00<00:00, 41.13it/s]\n",
      "100%|██████████| 20/20 [00:00<00:00, 41.33it/s]\n",
      "100%|██████████| 20/20 [00:00<00:00, 36.17it/s]\n",
      "100%|██████████| 20/20 [00:00<00:00, 39.78it/s]\n",
      "100%|██████████| 20/20 [00:00<00:00, 40.38it/s]\n",
      "100%|██████████| 20/20 [00:00<00:00, 26.29it/s]\n",
      "100%|██████████| 20/20 [00:00<00:00, 33.34it/s]\n",
      "100%|██████████| 20/20 [00:00<00:00, 35.69it/s]\n",
      "100%|██████████| 20/20 [00:00<00:00, 43.02it/s]\n",
      "100%|██████████| 20/20 [00:00<00:00, 38.69it/s]\n",
      "100%|██████████| 20/20 [00:00<00:00, 41.36it/s]\n",
      "100%|██████████| 20/20 [00:00<00:00, 40.40it/s]\n",
      "100%|██████████| 20/20 [00:00<00:00, 41.35it/s]\n",
      "100%|██████████| 20/20 [00:00<00:00, 38.76it/s]\n",
      "100%|██████████| 20/20 [00:00<00:00, 34.22it/s]\n",
      "100%|██████████| 20/20 [00:00<00:00, 31.70it/s]\n",
      "100%|██████████| 20/20 [00:00<00:00, 31.78it/s]\n",
      "100%|██████████| 20/20 [00:00<00:00, 37.19it/s]\n",
      "100%|██████████| 20/20 [00:00<00:00, 40.57it/s]\n",
      "100%|██████████| 20/20 [00:00<00:00, 41.10it/s]\n",
      "100%|██████████| 20/20 [00:00<00:00, 33.76it/s]\n",
      "100%|██████████| 20/20 [00:00<00:00, 37.20it/s]\n",
      "100%|██████████| 20/20 [00:00<00:00, 38.68it/s]\n",
      "100%|██████████| 20/20 [00:00<00:00, 41.15it/s]\n",
      "100%|██████████| 20/20 [00:00<00:00, 42.34it/s]\n",
      "100%|██████████| 20/20 [00:00<00:00, 43.04it/s]\n",
      "100%|██████████| 20/20 [00:00<00:00, 44.58it/s]\n",
      "100%|██████████| 20/20 [00:00<00:00, 45.20it/s]\n",
      "100%|██████████| 20/20 [00:00<00:00, 45.84it/s]\n",
      "100%|██████████| 20/20 [00:00<00:00, 43.31it/s]\n",
      "100%|██████████| 20/20 [00:00<00:00, 44.93it/s]\n",
      "100%|██████████| 20/20 [00:00<00:00, 44.54it/s]\n",
      "100%|██████████| 20/20 [00:00<00:00, 41.53it/s]\n",
      "100%|██████████| 20/20 [00:00<00:00, 25.83it/s]\n",
      "100%|██████████| 20/20 [00:00<00:00, 35.32it/s]\n",
      "100%|██████████| 20/20 [00:00<00:00, 35.51it/s]\n",
      "100%|██████████| 20/20 [00:00<00:00, 38.82it/s]\n",
      "100%|██████████| 20/20 [00:00<00:00, 42.66it/s]\n",
      "100%|██████████| 20/20 [00:00<00:00, 45.54it/s]\n",
      "100%|██████████| 20/20 [00:00<00:00, 44.60it/s]\n",
      "100%|██████████| 20/20 [00:00<00:00, 44.61it/s]\n",
      "100%|██████████| 20/20 [00:00<00:00, 45.32it/s]\n",
      "100%|██████████| 20/20 [00:00<00:00, 45.13it/s]\n",
      "100%|██████████| 20/20 [00:00<00:00, 39.11it/s]\n",
      "100%|██████████| 20/20 [00:00<00:00, 43.08it/s]\n",
      "100%|██████████| 20/20 [00:00<00:00, 34.30it/s]\n",
      "100%|██████████| 20/20 [00:00<00:00, 34.03it/s]\n",
      "100%|██████████| 20/20 [00:00<00:00, 41.74it/s]\n",
      "100%|██████████| 20/20 [00:00<00:00, 43.80it/s]\n",
      "100%|██████████| 20/20 [00:00<00:00, 42.90it/s]\n",
      "100%|██████████| 20/20 [00:00<00:00, 39.09it/s]\n",
      "100%|██████████| 20/20 [00:00<00:00, 38.37it/s]\n",
      "100%|██████████| 20/20 [00:00<00:00, 43.46it/s]\n",
      "100%|██████████| 20/20 [00:00<00:00, 40.84it/s]\n",
      "100%|██████████| 20/20 [00:00<00:00, 43.56it/s]\n",
      "100%|██████████| 20/20 [00:00<00:00, 43.40it/s]\n",
      "100%|██████████| 20/20 [00:00<00:00, 43.12it/s]\n",
      "100%|██████████| 20/20 [00:00<00:00, 43.26it/s]\n",
      "100%|██████████| 20/20 [00:00<00:00, 39.86it/s]\n",
      "100%|██████████| 20/20 [00:00<00:00, 37.22it/s]\n",
      "100%|██████████| 20/20 [00:00<00:00, 38.22it/s]\n",
      "100%|██████████| 20/20 [00:00<00:00, 32.01it/s]\n",
      "100%|██████████| 20/20 [00:00<00:00, 37.84it/s]\n",
      "100%|██████████| 20/20 [00:00<00:00, 36.18it/s]\n",
      "100%|██████████| 20/20 [00:00<00:00, 38.61it/s]\n",
      "100%|██████████| 20/20 [00:00<00:00, 35.58it/s]\n",
      "100%|██████████| 20/20 [00:00<00:00, 35.35it/s]\n",
      "100%|██████████| 20/20 [00:00<00:00, 34.61it/s]\n",
      "100%|██████████| 20/20 [00:00<00:00, 35.61it/s]\n",
      "100%|██████████| 20/20 [00:00<00:00, 35.67it/s]\n",
      "100%|██████████| 20/20 [00:00<00:00, 40.31it/s]\n",
      "100%|██████████| 20/20 [00:00<00:00, 45.21it/s]\n",
      "100%|██████████| 20/20 [00:00<00:00, 45.03it/s]\n",
      "100%|██████████| 20/20 [00:00<00:00, 43.46it/s]\n",
      "100%|██████████| 20/20 [00:00<00:00, 43.09it/s]\n",
      "100%|██████████| 20/20 [00:00<00:00, 43.36it/s]\n",
      "100%|██████████| 20/20 [00:00<00:00, 43.32it/s]\n",
      "100%|██████████| 20/20 [00:00<00:00, 43.23it/s]\n",
      "100%|██████████| 20/20 [00:00<00:00, 43.57it/s]\n",
      "100%|██████████| 20/20 [00:00<00:00, 39.85it/s]\n",
      "100%|██████████| 20/20 [00:00<00:00, 40.20it/s]\n",
      "100%|██████████| 20/20 [00:00<00:00, 39.55it/s]\n",
      "100%|██████████| 20/20 [00:00<00:00, 36.23it/s]\n",
      "100%|██████████| 20/20 [00:00<00:00, 36.22it/s]\n",
      "100%|██████████| 20/20 [00:00<00:00, 43.53it/s]\n",
      "100%|██████████| 20/20 [00:00<00:00, 41.93it/s]\n",
      "100%|██████████| 20/20 [00:00<00:00, 38.42it/s]\n",
      "100%|██████████| 20/20 [00:00<00:00, 34.64it/s]\n",
      "100%|██████████| 20/20 [00:00<00:00, 32.89it/s]\n",
      "100%|██████████| 20/20 [00:00<00:00, 41.28it/s]\n",
      "100%|██████████| 20/20 [00:00<00:00, 44.80it/s]\n",
      "100%|██████████| 20/20 [00:00<00:00, 45.70it/s]\n",
      "100%|██████████| 20/20 [00:00<00:00, 46.10it/s]\n",
      "100%|██████████| 20/20 [00:00<00:00, 45.76it/s]\n",
      "100%|██████████| 20/20 [00:00<00:00, 44.81it/s]\n",
      "100%|██████████| 20/20 [00:00<00:00, 44.73it/s]\n",
      "100%|██████████| 20/20 [00:00<00:00, 44.69it/s]\n",
      "100%|██████████| 20/20 [00:00<00:00, 45.53it/s]\n",
      "100%|██████████| 20/20 [00:00<00:00, 32.24it/s]\n",
      "100%|██████████| 20/20 [00:00<00:00, 36.87it/s]\n",
      "100%|██████████| 20/20 [00:01<00:00, 18.59it/s]\n",
      "100%|██████████| 20/20 [00:00<00:00, 37.54it/s]\n",
      "100%|██████████| 20/20 [00:00<00:00, 40.10it/s]\n",
      "100%|██████████| 20/20 [00:00<00:00, 36.84it/s]\n",
      "100%|██████████| 20/20 [00:00<00:00, 44.76it/s]\n",
      "100%|██████████| 20/20 [00:00<00:00, 44.92it/s]\n",
      "100%|██████████| 20/20 [00:00<00:00, 45.32it/s]\n",
      "100%|██████████| 20/20 [00:00<00:00, 45.35it/s]\n",
      "100%|██████████| 20/20 [00:00<00:00, 42.10it/s]\n",
      "100%|██████████| 20/20 [00:00<00:00, 42.89it/s]\n",
      "100%|██████████| 20/20 [00:00<00:00, 45.54it/s]\n",
      "100%|██████████| 20/20 [00:00<00:00, 45.20it/s]\n",
      "100%|██████████| 20/20 [00:00<00:00, 45.65it/s]\n",
      "100%|██████████| 20/20 [00:00<00:00, 36.48it/s]\n",
      "100%|██████████| 20/20 [00:00<00:00, 36.99it/s]\n",
      "100%|██████████| 20/20 [00:00<00:00, 29.41it/s]\n"
     ]
    },
    {
     "name": "stderr",
     "output_type": "stream",
     "text": [
      "100%|██████████| 20/20 [00:00<00:00, 36.21it/s]\n",
      "100%|██████████| 20/20 [00:00<00:00, 32.61it/s]\n",
      "100%|██████████| 20/20 [00:00<00:00, 39.51it/s]\n",
      "100%|██████████| 20/20 [00:00<00:00, 38.06it/s]\n",
      "100%|██████████| 20/20 [00:00<00:00, 37.79it/s]\n",
      "100%|██████████| 20/20 [00:00<00:00, 42.40it/s]\n",
      "100%|██████████| 20/20 [00:00<00:00, 43.85it/s]\n",
      "100%|██████████| 20/20 [00:00<00:00, 39.68it/s]\n",
      "100%|██████████| 20/20 [00:00<00:00, 39.31it/s]\n",
      "100%|██████████| 20/20 [00:00<00:00, 40.13it/s]\n",
      "100%|██████████| 20/20 [00:00<00:00, 37.59it/s]\n",
      "100%|██████████| 20/20 [00:00<00:00, 38.13it/s]\n",
      "100%|██████████| 20/20 [00:00<00:00, 42.76it/s]\n",
      "100%|██████████| 20/20 [00:00<00:00, 43.84it/s]\n",
      "100%|██████████| 20/20 [00:00<00:00, 35.76it/s]\n",
      "100%|██████████| 20/20 [00:00<00:00, 38.40it/s]\n",
      "100%|██████████| 20/20 [00:00<00:00, 44.77it/s]\n",
      "100%|██████████| 20/20 [00:00<00:00, 35.57it/s]\n",
      "100%|██████████| 20/20 [00:00<00:00, 38.23it/s]\n",
      "100%|██████████| 20/20 [00:00<00:00, 42.51it/s]\n",
      "100%|██████████| 20/20 [00:00<00:00, 41.53it/s]\n",
      "100%|██████████| 20/20 [00:00<00:00, 44.58it/s]\n",
      "100%|██████████| 20/20 [00:00<00:00, 46.06it/s]\n",
      "100%|██████████| 20/20 [00:00<00:00, 46.72it/s]\n",
      "100%|██████████| 20/20 [00:00<00:00, 45.53it/s]\n",
      "100%|██████████| 20/20 [00:00<00:00, 45.96it/s]\n",
      "100%|██████████| 20/20 [00:00<00:00, 47.17it/s]\n",
      "100%|██████████| 20/20 [00:00<00:00, 47.60it/s]\n",
      "100%|██████████| 20/20 [00:00<00:00, 47.28it/s]\n",
      "100%|██████████| 20/20 [00:00<00:00, 47.93it/s]\n"
     ]
    }
   ],
   "source": [
    "experiment_noise.fit_training_model() # Linear fit for Step 2 of Algorithm 2\n",
    "experiment_noise.learn_with_fitted() # Recurcive steps 3 & 4 of Algorithm 2"
   ]
  },
  {
   "cell_type": "code",
   "execution_count": 64,
   "metadata": {},
   "outputs": [
    {
     "name": "stdout",
     "output_type": "stream",
     "text": [
      "Total relative error for all test cases: 0.04897834528102195\n",
      "\n",
      "Average error over all test cases: 0.07201439419597547\n",
      "\n",
      "Maximum relative error among test cases: 0.19287439626757266\n"
     ]
    }
   ],
   "source": [
    "Prediction_noise = experiment_noise.to_df_list()\n",
    "\n",
    "er_noise = show.errors(Burgers_true,Prediction_noise)\n",
    "print('')\n",
    "av_er_noise = show.errors(Burgers_true,Prediction_noise, full = False, maxi = True)"
   ]
  },
  {
   "cell_type": "code",
   "execution_count": 66,
   "metadata": {},
   "outputs": [
    {
     "name": "stdout",
     "output_type": "stream",
     "text": [
      "Coefficients of equation obtained from regression on data with error: Viscocity coef: 0.007050463054891568, Non-lin coef: -0.08016167491676321.\n"
     ]
    }
   ],
   "source": [
    "# PDE-FIND on the noisy data\n",
    "\n",
    "u_t = np.array([(Burgers_noise_df[i].iloc[j+1]-Burgers_noise_df[i].iloc[j]).values/dt for i in range(120) if i not in test for j in range(len(T)-1)]).flatten()\n",
    "u = np.array([Burgers_noise_df[i].iloc[j].values for i in range(120) if i not in test for j in range(len(T)-1)])\n",
    "u_x = np.array([SPDE().discrete_diff(U, N = len(X), flatten=True, higher = False)/dx for U in u]).flatten()\n",
    "u_xx = np.dot(u, M).flatten()\n",
    "u2_x = u.flatten()*u_x\n",
    "\n",
    "truth = lin_reg(fit_intercept = True).fit(np.array([u_xx, u2_x]).T, u_t)\n",
    "\n",
    "print(\"Coefficients of equation obtained from regression on data with error: Viscocity coef: {}, Non-lin coef: {}.\".format(truth.coef_[0],truth.coef_[1]))"
   ]
  },
  {
   "cell_type": "code",
   "execution_count": null,
   "metadata": {},
   "outputs": [],
   "source": []
  }
 ],
 "metadata": {
  "kernelspec": {
   "display_name": "Python 3",
   "language": "python",
   "name": "python3"
  },
  "language_info": {
   "codemirror_mode": {
    "name": "ipython",
    "version": 3
   },
   "file_extension": ".py",
   "mimetype": "text/x-python",
   "name": "python",
   "nbconvert_exporter": "python",
   "pygments_lexer": "ipython3",
   "version": "3.8.1"
  }
 },
 "nbformat": 4,
 "nbformat_minor": 4
}
