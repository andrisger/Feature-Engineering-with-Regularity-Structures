{
 "cells": [
  {
   "cell_type": "code",
   "execution_count": 36,
   "metadata": {},
   "outputs": [],
   "source": [
    "%run Classes/SPDEs.ipynb\n",
    "%run Classes/Rule.ipynb\n",
    "%run Classes/Model.ipynb\n",
    "%run Classes/Noise.ipynb\n",
    "%run Classes/full_visualization.ipynb\n",
    "%run Algorithms/Algorithm_2.ipynb\n",
    "%run Classes/Burgers_PDE_FIND.ipynb\n",
    "\n",
    "#Disable progress bars from tqdm\n",
    "from functools import partialmethod\n",
    "tqdm.__init__ = partialmethod(tqdm.__init__, disable=True)"
   ]
  },
  {
   "cell_type": "code",
   "execution_count": 45,
   "metadata": {},
   "outputs": [],
   "source": [
    "#set global parameters\n",
    "a, b, s, t = -8, 8, 0, 10 # space-time boundaries\n",
    "\n",
    "X_, T_ = np.linspace(a,b,513), np.linspace(s,t,1001) # space-time grid for generating solutions\n",
    "X, T = X_[::2], T_[::10] # space-time grid of observed points. O_X and O_T\n",
    "\n",
    "eps = 0.2 #Viscosity\n",
    "\n",
    "k = 15 # Number of realizations (multiple of 3)\n",
    "m = 5 # Number of test cases, m < k\n",
    "\n",
    "N = 2 # Number of experiments\n",
    "\n",
    "#Model parameters\n",
    "height = 3\n",
    "deg = 2.5\n",
    "kernel_deg = 2\n",
    "noise_deg = -1.5\n",
    "free_num = 2\n",
    "BC = 'P'\n",
    "\n",
    "R = Rule(kernel_deg = kernel_deg,\n",
    "         noise_deg = noise_deg,\n",
    "         free_num = free_num) # initialize rule. No multiplicative width and forcing. \n",
    "\n",
    "#Polynomial interpolation parameters for PDE-FIND\n",
    "deg_x = 1\n",
    "deg_t = 1\n",
    "\n",
    "time_scale = 10 # increase the time interval for finer Euler scheme in PDE-FIND"
   ]
  },
  {
   "cell_type": "code",
   "execution_count": 48,
   "metadata": {},
   "outputs": [
    {
     "name": "stdout",
     "output_type": "stream",
     "text": [
      "Creating Model\n",
      "Creating Model\n",
      "Creating Model\n",
      "Creating Model\n",
      "CPU times: user 4min 36s, sys: 20.9 s, total: 4min 56s\n",
      "Wall time: 37.5 s\n"
     ]
    }
   ],
   "source": [
    "%%time\n",
    "\n",
    "exps_Alg2 = []\n",
    "exps_v = []\n",
    "exps_v_coef = []\n",
    "exps_find = []\n",
    "exps_find_eps =[]\n",
    "exps_find_lambd =[]\n",
    "\n",
    "for n in range(0,N):\n",
    "    # Create realizations of initial conditions. \n",
    "    IC1 = Noise().initial(k//3, X_, scaling = 1) # one cycle\n",
    "    IC2 = Noise().initial(k//3, X_, scaling = 2) # two cycles\n",
    "    IC4 = Noise().initial(k//3, X_, scaling = 4) # four cycles\n",
    "\n",
    "    IC = np.concatenate([IC1, IC2, IC4])\n",
    "\n",
    "    W = np.zeros((k, len(T_), len(X_))) # No forcing\n",
    "    \n",
    "    #Generate solutions\n",
    "    Burgers_ = SPDE(BC = BC, IC = IC, eps = eps).Burgers(W, T = T_, X = X_) # solve Burger's equations on the fine grid\n",
    "\n",
    "    Burgers = Burgers_[:,::10,::2] # Observed points of Burger's equations\n",
    "    \n",
    "    Burgers = Burgers.astype('float32')\n",
    "    #\n",
    "    test = np.random.choice(np.arange(k), m, replace = False) # choose test set\n",
    "    \n",
    "    \n",
    "    #ALGORITHM 2\n",
    "\n",
    "    experiment = IML(Burgers, Rule = R, eps = eps, height = height, deg = deg, T = T, X = X) # initialize experiment for algorithm 2\n",
    "    experiment.set_train_test(test = test) # initialize test set\n",
    "\n",
    "    experiment.set_trees() # extract trees\n",
    "\n",
    "    experiment.initialize_Predictions() \n",
    "\n",
    "    experiment.training_models() # Create models for Step 2 of Algorithm 2\n",
    "    \n",
    "    experiment.fit_training_model() # Linear fit for Step 2 of Algorithm 2\n",
    "    \n",
    "    experiment.learn_with_fitted() # Recurcive steps 3 & 4 of Algorithm 2\n",
    "    \n",
    "    # Translate prediction to a dataframe for the visualization class\n",
    "    Prediction = experiment.to_df_list()\n",
    "\n",
    "    # Translate solution to a dataframe for the visualization class\n",
    "    Burgers_true = [pd.DataFrame(B, index = T, columns = X) for B in Burgers]\n",
    "    \n",
    "    # Errors\n",
    "\n",
    "    show = summary(experiment.test)\n",
    "    er = show.errors(Burgers_true, Prediction, show = False)\n",
    "    exps_Alg2.append(show)\n",
    "    \n",
    "    \n",
    "    #ESTIMATE VISCOSITY\n",
    "    \n",
    "    # Regression to determine viscosity from train cases\n",
    "\n",
    "    j = 0\n",
    "\n",
    "    u_t = np.array([(Burgers_true[i].iloc[j+1].values-Burgers_true[i].iloc[j]).values/(T[1]-T[0]) for i in range(k) if i not in test]).flatten()\n",
    "\n",
    "    dx = X[1]-X[0]\n",
    "\n",
    "    M = SPDE(BC = 'P').Parabolic_Matrix(len(X)-1, 1, dx, inverse = False)\n",
    "\n",
    "    u = np.array([Burgers_true[i].iloc[j].values for i in range(k) if i not in test])\n",
    "    u_xx = np.array([np.dot(M, U) for U in u]).flatten()\n",
    "\n",
    "    visc = lin_reg().fit(u_xx.reshape(-1, 1), u_t)\n",
    "    exps_v_coef.append(visc.coef_)\n",
    "\n",
    "    # Algorithm 2 on the true data with learnt viscosity eps\n",
    "\n",
    "    experiment_v = IML(Burgers, Rule = R, eps = visc.coef_, height = height, deg = deg, T = T, X = X) # initialize experiment for algorithm 2\n",
    "    experiment_v.set_train_test(test = test) # initialize test set\n",
    "\n",
    "    experiment_v.trees = experiment.trees # extract trees\n",
    "\n",
    "    experiment_v.initialize_Predictions() \n",
    "\n",
    "    experiment_v.training_models() # Create models for Step 2 of Algorithm 2\n",
    "    \n",
    "    experiment_v.fit_training_model() # Linear fit for Step 2 of Algorithm 2\n",
    "    experiment_v.learn_with_fitted() # Recurcive steps 3 & 4 of Algorithm 2\n",
    "    \n",
    "    Prediction_v = experiment_v.to_df_list()\n",
    "\n",
    "    show_v = summary(experiment.test)\n",
    "    er_find = show_v.errors(Burgers_true,Prediction_v, show = False)\n",
    "    exps_v.append(show_v)\n",
    "    \n",
    "    \n",
    "    #PDE-FIND\n",
    "    \n",
    "    # PDE-FIND to learn coefficients of equation\n",
    "\n",
    "    dt, dx = T[1]-T[0], X[1]-X[0]\n",
    "    u = np.array([Burgers_true[i] for i in range(len(Burgers_true)) if i not in test])\n",
    "    # get viscosity and non linear coeficient of the Burgers equation\n",
    "    eps_find, lambd_find = PDE_FIND_Burgers(u, dt, dx, diff='finite_diff')\n",
    "    \"\"\"eps_find, lambd_find = PDE_FIND_Burgers(u,\n",
    "                                            dt,\n",
    "                                            dx,\n",
    "                                            diff='poly',\n",
    "                                            offset_x = 30,\n",
    "                                            offset_t = 30,\n",
    "                                            deg_x = deg_x,\n",
    "                                            deg_t = deg_t)\"\"\"\n",
    "    \n",
    "    #IC_ = IC[:,::2]\n",
    "    IC_ = np.array([B[0] for B in Burgers])\n",
    "\n",
    "    W_ = np.zeros((k, len(T_), len(X)))\n",
    "\n",
    "    Burgers_find = SPDE(BC = BC, IC = IC_, eps = 0.2).Burgers(W_, lambd = -1.0, T = T_, X = X)\n",
    "\n",
    "    Burgers_find = [pd.DataFrame(Burgers_find[i, ::10, :], index = T, columns = X) for i in test]\n",
    "    #Burgers_find = [pd.DataFrame(Burgers_find[i], index = T, columns = X) for i in test]\n",
    "    \n",
    "    show_find = summary(experiment.test)\n",
    "    er_find = show_find.errors(Burgers_true, Burgers_find, show = False)\n",
    "    exps_find.append(show_find)\n",
    "    exps_find_eps.append(eps_find)\n",
    "    exps_find_lambd.append(lambd_find)\n"
   ]
  },
  {
   "cell_type": "code",
   "execution_count": 49,
   "metadata": {
    "scrolled": true
   },
   "outputs": [
    {
     "name": "stdout",
     "output_type": "stream",
     "text": [
      "Average average error: 3.82887931367362\n",
      "Maximum average error: 6.885345777763925\n",
      "Minimum average error: 0.7724128495833149\n",
      "\n",
      "Average maximum error: 15.223245756165475\n",
      "Maximum maximum error: 26.693696148230444\n",
      "Minimum maximum error: 3.752795364100508\n",
      "\n",
      "Average minimum error: 0.010305938353728984\n",
      "Maximum minimum error: 0.014448637337467594\n",
      "Minimum minimum error: 0.006163239369990373\n",
      "\n",
      "=====================\n",
      "Average average error: 4.380397224911535\n",
      "Maximum average error: 6.991313716831205\n",
      "Minimum average error: 1.769480732991865\n",
      "\n",
      "Average maximum error: 16.051627482504152\n",
      "Maximum maximum error: 27.208071574629056\n",
      "Minimum maximum error: 4.895183390379245\n",
      "\n",
      "Average minimum error: 0.010151031436081214\n",
      "Maximum minimum error: 0.014572959345982642\n",
      "Minimum minimum error: 0.005729103526179787\n",
      "\n",
      "=====================\n",
      "Average average error: 0.13631140253766397\n",
      "Maximum average error: 0.15498548585804647\n",
      "Minimum average error: 0.11763731921728145\n",
      "\n",
      "Average maximum error: 0.3007772479935068\n",
      "Maximum maximum error: 0.3218615132446336\n",
      "Minimum maximum error: 0.27969298274238\n",
      "\n",
      "Average minimum error: 0.05699643283473039\n",
      "Maximum minimum error: 0.07089275670105234\n",
      "Minimum minimum error: 0.043100108968408435\n",
      "\n",
      "=====================\n"
     ]
    }
   ],
   "source": [
    "for exps in [exps_Alg2, exps_v, exps_find]:\n",
    "\n",
    "    print(\"Average average error:\", np.mean([e.av_er for e in exps]))\n",
    "    print(\"Maximum average error:\", max([e.av_er for e in exps]))\n",
    "    print(\"Minimum average error:\", min([e.av_er for e in exps]))\n",
    "    print('')\n",
    "\n",
    "    print(\"Average maximum error:\", np.mean([e.max_er for e in exps]))\n",
    "    print(\"Maximum maximum error:\", max([e.max_er for e in exps]))\n",
    "    print(\"Minimum maximum error:\", min([e.max_er for e in exps]))\n",
    "    print('')\n",
    "\n",
    "    print(\"Average minimum error:\", np.mean([e.min_er for e in exps]))\n",
    "    print(\"Maximum minimum error:\", max([e.min_er for e in exps]))\n",
    "    print(\"Minimum minimum error:\", min([e.min_er for e in exps]))\n",
    "    print('')\n",
    "\n",
    "    print(\"=====================\")"
   ]
  },
  {
   "cell_type": "code",
   "execution_count": 29,
   "metadata": {},
   "outputs": [
    {
     "name": "stdout",
     "output_type": "stream",
     "text": [
      "Average viscosity: 0.11502342457769954\n",
      "Maximum viscosity: [0.11562856]\n",
      "Minimum viscosity: [0.11441829]\n"
     ]
    }
   ],
   "source": [
    "print(\"Average viscosity:\", np.mean(exps_v_coef))\n",
    "print(\"Maximum viscosity:\", max(exps_v_coef))\n",
    "print(\"Minimum viscosity:\", min(exps_v_coef))"
   ]
  },
  {
   "cell_type": "code",
   "execution_count": 41,
   "metadata": {},
   "outputs": [
    {
     "name": "stdout",
     "output_type": "stream",
     "text": [
      "Average viscosity: 0.14115729966824053, lambda: -0.9435499193213398\n",
      "Maximum viscosity: 0.1413886093206219, lambda: -0.9398373499404485\n",
      "Minimum viscosity: 0.1409259900158592, lambda: -0.9472624887022311\n"
     ]
    }
   ],
   "source": [
    "print(\"Average viscosity: {}, lambda: {}\".format(np.mean(exps_find_eps), np.mean(exps_find_lambd)))\n",
    "print(\"Maximum viscosity: {}, lambda: {}\".format(max(exps_find_eps), max(exps_find_lambd)))\n",
    "print(\"Minimum viscosity: {}, lambda: {}\".format(min(exps_find_eps), min(exps_find_lambd)))"
   ]
  },
  {
   "cell_type": "code",
   "execution_count": 42,
   "metadata": {},
   "outputs": [
    {
     "data": {
      "text/plain": [
       "0.10007642566055246"
      ]
     },
     "execution_count": 42,
     "metadata": {},
     "output_type": "execute_result"
    }
   ],
   "source": [
    "exps_find[0].av_er"
   ]
  },
  {
   "cell_type": "code",
   "execution_count": 43,
   "metadata": {},
   "outputs": [
    {
     "data": {
      "text/plain": [
       "0.26945851415879074"
      ]
     },
     "execution_count": 43,
     "metadata": {},
     "output_type": "execute_result"
    }
   ],
   "source": [
    "exps_find[1].av_er"
   ]
  },
  {
   "cell_type": "code",
   "execution_count": 44,
   "metadata": {},
   "outputs": [
    {
     "ename": "IndexError",
     "evalue": "list index out of range",
     "output_type": "error",
     "traceback": [
      "\u001b[0;31m---------------------------------------------------------------------------\u001b[0m",
      "\u001b[0;31mIndexError\u001b[0m                                Traceback (most recent call last)",
      "Cell \u001b[0;32mIn[44], line 1\u001b[0m\n\u001b[0;32m----> 1\u001b[0m \u001b[43mexps_find\u001b[49m\u001b[43m[\u001b[49m\u001b[38;5;241;43m2\u001b[39;49m\u001b[43m]\u001b[49m\u001b[38;5;241m.\u001b[39mav_er\n",
      "\u001b[0;31mIndexError\u001b[0m: list index out of range"
     ]
    }
   ],
   "source": [
    "exps_find[2].av_er"
   ]
  },
  {
   "cell_type": "code",
   "execution_count": null,
   "metadata": {},
   "outputs": [],
   "source": []
  }
 ],
 "metadata": {
  "kernelspec": {
   "display_name": "Python 3 (ipykernel)",
   "language": "python",
   "name": "python3"
  },
  "language_info": {
   "codemirror_mode": {
    "name": "ipython",
    "version": 3
   },
   "file_extension": ".py",
   "mimetype": "text/x-python",
   "name": "python",
   "nbconvert_exporter": "python",
   "pygments_lexer": "ipython3",
   "version": "3.10.9"
  }
 },
 "nbformat": 4,
 "nbformat_minor": 4
}
